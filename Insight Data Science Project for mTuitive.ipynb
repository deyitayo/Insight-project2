{
 "cells": [
  {
   "cell_type": "markdown",
   "metadata": {},
   "source": [
    "# Random Forest model for predicting the interval between dialysis access interventions #"
   ]
  },
  {
   "cell_type": "markdown",
   "metadata": {},
   "source": [
    "*Project summary*"
   ]
  },
  {
   "cell_type": "markdown",
   "metadata": {},
   "source": [
    "This analysis was performed based on a consulting project to estimate the length of time it takes dialysis access patients to develop complications that would necessitate another dialysis access procedure. The dataset was obtained from a dialysis access facility with entries depicting variables such as the interval between Dialysis Access interventions (DAI), and procedure information for dialysis access patients. This information include data on the age of the patient, the type and subtypes of access procedures performed, whether or not the patient had complications such as narrowing of the blood vessels (stenosis), and amount of anaesthesia used to name a few.\n",
    "\n",
    "The analysis entailed data cleaning, requiring removing columns of data with only missing values, duplicated data and those indicating payment codes. I also had to remove special characters such as double quotes from the row entries, and ensure variables are of the correct data type. For example, I had to transform the age variable from character strings to numeric data type.\n",
    "\n",
    "Subsequently, I performed data exploration, which showed the response variable- interval between dialysis access interventions to be skewed and depicting outlier values. So, I did a natural log transformation to take care of the assymmetry in the response variable. Then I used one-hot encoding to break up the individual classes within each categorical variable into seperate columns, and also used simple imputer to replace missing values in numeric predictor variables with the mean value for each column.\n",
    "\n",
    "Finally, I used a Random Forest model to predict interval between dialysis access interventions. The value in such prediction is that dialysis access facilities/pysicians can schedule detailed clinical examination of the patient to detect complications before they become severe."
   ]
  },
  {
   "cell_type": "code",
   "execution_count": 60,
   "metadata": {},
   "outputs": [],
   "source": [
    "# Importing basic useful libraries\n",
    "import pandas as pd\n",
    "import numpy as np"
   ]
  },
  {
   "cell_type": "code",
   "execution_count": 61,
   "metadata": {},
   "outputs": [],
   "source": [
    "# Loading the dataset\n",
    "Dialysis = pd.read_csv('Dialysis_data.csv', encoding = 'unicode_escape')"
   ]
  },
  {
   "cell_type": "code",
   "execution_count": 62,
   "metadata": {},
   "outputs": [
    {
     "data": {
      "text/html": [
       "<div>\n",
       "<style scoped>\n",
       "    .dataframe tbody tr th:only-of-type {\n",
       "        vertical-align: middle;\n",
       "    }\n",
       "\n",
       "    .dataframe tbody tr th {\n",
       "        vertical-align: top;\n",
       "    }\n",
       "\n",
       "    .dataframe thead th {\n",
       "        text-align: right;\n",
       "    }\n",
       "</style>\n",
       "<table border=\"1\" class=\"dataframe\">\n",
       "  <thead>\n",
       "    <tr style=\"text-align: right;\">\n",
       "      <th></th>\n",
       "      <th>PatientID</th>\n",
       "      <th>SurgeonID</th>\n",
       "      <th>Days Until Next Intervention</th>\n",
       "      <th>Days Since last access procedure</th>\n",
       "      <th>Site of Service-4</th>\n",
       "      <th>patient age in years-7</th>\n",
       "      <th>Prolonged Bleeding (996.73-9</th>\n",
       "      <th>Follow up after Difficulty-10</th>\n",
       "      <th>Follow up after Difficulty-11</th>\n",
       "      <th>Swelling (729.81)-12</th>\n",
       "      <th>...</th>\n",
       "      <th>99155 - Moderate sedation -642</th>\n",
       "      <th>36905 - Percutaneous trans-643</th>\n",
       "      <th>77001- Fluoroscopic guidan-644</th>\n",
       "      <th>6100F-645</th>\n",
       "      <th>PQRS Codes-646</th>\n",
       "      <th>6100F-8P-647</th>\n",
       "      <th>4048F-648</th>\n",
       "      <th>4048F-8P-649</th>\n",
       "      <th>6045F-650</th>\n",
       "      <th>6045F-8P-651</th>\n",
       "    </tr>\n",
       "  </thead>\n",
       "  <tbody>\n",
       "    <tr>\n",
       "      <td>0</td>\n",
       "      <td>TE1zaw/rjb/6RsoxKy36S6WMwoLTOu9OKZpYapmJqiU=</td>\n",
       "      <td>12</td>\n",
       "      <td>1626</td>\n",
       "      <td>NaN</td>\n",
       "      <td>\"Physician Office\"</td>\n",
       "      <td>NaN</td>\n",
       "      <td>NaN</td>\n",
       "      <td>NaN</td>\n",
       "      <td>NaN</td>\n",
       "      <td>NaN</td>\n",
       "      <td>...</td>\n",
       "      <td>NaN</td>\n",
       "      <td>NaN</td>\n",
       "      <td>NaN</td>\n",
       "      <td>NaN</td>\n",
       "      <td>NaN</td>\n",
       "      <td>NaN</td>\n",
       "      <td>NaN</td>\n",
       "      <td>NaN</td>\n",
       "      <td>NaN</td>\n",
       "      <td>NaN</td>\n",
       "    </tr>\n",
       "    <tr>\n",
       "      <td>1</td>\n",
       "      <td>xmu3QwmWPcKVese+cOurfy5GnDZHUmAadTSfd+EuT7E=</td>\n",
       "      <td>11</td>\n",
       "      <td>1543</td>\n",
       "      <td>NaN</td>\n",
       "      <td>\"Physician Office\"</td>\n",
       "      <td>NaN</td>\n",
       "      <td>NaN</td>\n",
       "      <td>NaN</td>\n",
       "      <td>NaN</td>\n",
       "      <td>NaN</td>\n",
       "      <td>...</td>\n",
       "      <td>NaN</td>\n",
       "      <td>NaN</td>\n",
       "      <td>NaN</td>\n",
       "      <td>NaN</td>\n",
       "      <td>NaN</td>\n",
       "      <td>NaN</td>\n",
       "      <td>NaN</td>\n",
       "      <td>NaN</td>\n",
       "      <td>NaN</td>\n",
       "      <td>NaN</td>\n",
       "    </tr>\n",
       "    <tr>\n",
       "      <td>2</td>\n",
       "      <td>6GB4V62mmxzrML4aLAo+G5R8LH3r6/W3DQcRINDwgIs=</td>\n",
       "      <td>7</td>\n",
       "      <td>1520</td>\n",
       "      <td>NaN</td>\n",
       "      <td>\"Physician Office\"</td>\n",
       "      <td>NaN</td>\n",
       "      <td>NaN</td>\n",
       "      <td>NaN</td>\n",
       "      <td>NaN</td>\n",
       "      <td>NaN</td>\n",
       "      <td>...</td>\n",
       "      <td>NaN</td>\n",
       "      <td>NaN</td>\n",
       "      <td>NaN</td>\n",
       "      <td>NaN</td>\n",
       "      <td>NaN</td>\n",
       "      <td>NaN</td>\n",
       "      <td>NaN</td>\n",
       "      <td>NaN</td>\n",
       "      <td>NaN</td>\n",
       "      <td>NaN</td>\n",
       "    </tr>\n",
       "    <tr>\n",
       "      <td>3</td>\n",
       "      <td>5AFK3p9flAkGlozhHwBbRz6cp7lv/rp8uoUPmqI5Wc8=</td>\n",
       "      <td>7</td>\n",
       "      <td>1125</td>\n",
       "      <td>NaN</td>\n",
       "      <td>\"Physician Office\"</td>\n",
       "      <td>NaN</td>\n",
       "      <td>NaN</td>\n",
       "      <td>NaN</td>\n",
       "      <td>NaN</td>\n",
       "      <td>NaN</td>\n",
       "      <td>...</td>\n",
       "      <td>NaN</td>\n",
       "      <td>NaN</td>\n",
       "      <td>NaN</td>\n",
       "      <td>\"1\"</td>\n",
       "      <td>NaN</td>\n",
       "      <td>NaN</td>\n",
       "      <td>NaN</td>\n",
       "      <td>\"1\"</td>\n",
       "      <td>\"1\"</td>\n",
       "      <td>NaN</td>\n",
       "    </tr>\n",
       "    <tr>\n",
       "      <td>4</td>\n",
       "      <td>wRuNb+s9BiJo6C09SDloV9K/6dPg5GJWTXQ4PZW2Wzo=</td>\n",
       "      <td>11</td>\n",
       "      <td>1121</td>\n",
       "      <td>NaN</td>\n",
       "      <td>\"Physician Office\"</td>\n",
       "      <td>NaN</td>\n",
       "      <td>NaN</td>\n",
       "      <td>NaN</td>\n",
       "      <td>NaN</td>\n",
       "      <td>NaN</td>\n",
       "      <td>...</td>\n",
       "      <td>NaN</td>\n",
       "      <td>NaN</td>\n",
       "      <td>NaN</td>\n",
       "      <td>\"1\"</td>\n",
       "      <td>NaN</td>\n",
       "      <td>NaN</td>\n",
       "      <td>NaN</td>\n",
       "      <td>\"1\"</td>\n",
       "      <td>\"1\"</td>\n",
       "      <td>NaN</td>\n",
       "    </tr>\n",
       "  </tbody>\n",
       "</table>\n",
       "<p>5 rows × 646 columns</p>\n",
       "</div>"
      ],
      "text/plain": [
       "                                      PatientID  SurgeonID  \\\n",
       "0  TE1zaw/rjb/6RsoxKy36S6WMwoLTOu9OKZpYapmJqiU=         12   \n",
       "1  xmu3QwmWPcKVese+cOurfy5GnDZHUmAadTSfd+EuT7E=         11   \n",
       "2  6GB4V62mmxzrML4aLAo+G5R8LH3r6/W3DQcRINDwgIs=          7   \n",
       "3  5AFK3p9flAkGlozhHwBbRz6cp7lv/rp8uoUPmqI5Wc8=          7   \n",
       "4  wRuNb+s9BiJo6C09SDloV9K/6dPg5GJWTXQ4PZW2Wzo=         11   \n",
       "\n",
       "   Days Until Next Intervention  Days Since last access procedure  \\\n",
       "0                          1626                               NaN   \n",
       "1                          1543                               NaN   \n",
       "2                          1520                               NaN   \n",
       "3                          1125                               NaN   \n",
       "4                          1121                               NaN   \n",
       "\n",
       "    Site of Service-4 patient age in years-7  Prolonged Bleeding (996.73-9  \\\n",
       "0  \"Physician Office\"                    NaN                           NaN   \n",
       "1  \"Physician Office\"                    NaN                           NaN   \n",
       "2  \"Physician Office\"                    NaN                           NaN   \n",
       "3  \"Physician Office\"                    NaN                           NaN   \n",
       "4  \"Physician Office\"                    NaN                           NaN   \n",
       "\n",
       "  Follow up after Difficulty-10  Follow up after Difficulty-11  \\\n",
       "0                           NaN                            NaN   \n",
       "1                           NaN                            NaN   \n",
       "2                           NaN                            NaN   \n",
       "3                           NaN                            NaN   \n",
       "4                           NaN                            NaN   \n",
       "\n",
       "   Swelling (729.81)-12  ...  99155 - Moderate sedation -642  \\\n",
       "0                   NaN  ...                             NaN   \n",
       "1                   NaN  ...                             NaN   \n",
       "2                   NaN  ...                             NaN   \n",
       "3                   NaN  ...                             NaN   \n",
       "4                   NaN  ...                             NaN   \n",
       "\n",
       "   36905 - Percutaneous trans-643  77001- Fluoroscopic guidan-644  6100F-645  \\\n",
       "0                             NaN                             NaN        NaN   \n",
       "1                             NaN                             NaN        NaN   \n",
       "2                             NaN                             NaN        NaN   \n",
       "3                             NaN                             NaN        \"1\"   \n",
       "4                             NaN                             NaN        \"1\"   \n",
       "\n",
       "   PQRS Codes-646  6100F-8P-647  4048F-648 4048F-8P-649 6045F-650 6045F-8P-651  \n",
       "0             NaN           NaN        NaN          NaN       NaN          NaN  \n",
       "1             NaN           NaN        NaN          NaN       NaN          NaN  \n",
       "2             NaN           NaN        NaN          NaN       NaN          NaN  \n",
       "3             NaN           NaN        NaN          \"1\"       \"1\"          NaN  \n",
       "4             NaN           NaN        NaN          \"1\"       \"1\"          NaN  \n",
       "\n",
       "[5 rows x 646 columns]"
      ]
     },
     "execution_count": 62,
     "metadata": {},
     "output_type": "execute_result"
    }
   ],
   "source": [
    "# Eyeballing the data to see what it looks like\n",
    "Dialysis.head()"
   ]
  },
  {
   "cell_type": "code",
   "execution_count": 63,
   "metadata": {},
   "outputs": [
    {
     "name": "stdout",
     "output_type": "stream",
     "text": [
      "<class 'pandas.core.frame.DataFrame'>\n",
      "RangeIndex: 2410 entries, 0 to 2409\n",
      "Columns: 646 entries, PatientID to 6045F-8P-651\n",
      "dtypes: float64(207), int64(2), object(437)\n",
      "memory usage: 11.9+ MB\n"
     ]
    }
   ],
   "source": [
    "# Checking for details of the data, like number of rows and columns\n",
    "Dialysis.info()"
   ]
  },
  {
   "cell_type": "code",
   "execution_count": 64,
   "metadata": {},
   "outputs": [
    {
     "data": {
      "text/html": [
       "<div>\n",
       "<style scoped>\n",
       "    .dataframe tbody tr th:only-of-type {\n",
       "        vertical-align: middle;\n",
       "    }\n",
       "\n",
       "    .dataframe tbody tr th {\n",
       "        vertical-align: top;\n",
       "    }\n",
       "\n",
       "    .dataframe thead th {\n",
       "        text-align: right;\n",
       "    }\n",
       "</style>\n",
       "<table border=\"1\" class=\"dataframe\">\n",
       "  <thead>\n",
       "    <tr style=\"text-align: right;\">\n",
       "      <th></th>\n",
       "      <th>Number of NAs</th>\n",
       "    </tr>\n",
       "  </thead>\n",
       "  <tbody>\n",
       "    <tr>\n",
       "      <td>brachialmid-248</td>\n",
       "      <td>2410</td>\n",
       "    </tr>\n",
       "    <tr>\n",
       "      <td>Follow up fistulagram-282</td>\n",
       "      <td>2410</td>\n",
       "    </tr>\n",
       "    <tr>\n",
       "      <td>Abnormality-79</td>\n",
       "      <td>2410</td>\n",
       "    </tr>\n",
       "    <tr>\n",
       "      <td>Procedure Information-82</td>\n",
       "      <td>2410</td>\n",
       "    </tr>\n",
       "    <tr>\n",
       "      <td>At least 1 arterial stent-515</td>\n",
       "      <td>2410</td>\n",
       "    </tr>\n",
       "  </tbody>\n",
       "</table>\n",
       "</div>"
      ],
      "text/plain": [
       "                               Number of NAs\n",
       "brachialmid-248                         2410\n",
       "Follow up fistulagram-282               2410\n",
       "Abnormality-79                          2410\n",
       "Procedure Information-82                2410\n",
       "At least 1 arterial stent-515           2410"
      ]
     },
     "execution_count": 64,
     "metadata": {},
     "output_type": "execute_result"
    }
   ],
   "source": [
    "# Obtaining columns with only missing values\n",
    "K2 = Dialysis.isnull().sum().sort_values(ascending=False)\n",
    "M2 = pd.DataFrame(K2, columns=['Number of NAs'])\n",
    "M2.head(5)"
   ]
  },
  {
   "cell_type": "code",
   "execution_count": 65,
   "metadata": {},
   "outputs": [
    {
     "data": {
      "text/plain": [
       "['PatientID',\n",
       " 'SurgeonID',\n",
       " 'Days Until Next Intervention',\n",
       " 'Extremity-41',\n",
       " 'Ultrasound Guidance-88',\n",
       " 'Thrombolysis-94']"
      ]
     },
     "execution_count": 65,
     "metadata": {},
     "output_type": "execute_result"
    }
   ],
   "source": [
    "# Columns without NAs\n",
    "No_NAs = M[0:6]\n",
    "Cols_without_NAs = list(No_NAs.index.values)\n",
    "Cols_without_NAs"
   ]
  },
  {
   "cell_type": "code",
   "execution_count": 66,
   "metadata": {},
   "outputs": [],
   "source": [
    "# Dropping colums with only NAs\n",
    "First_50 = M2[0:50]\n",
    "Second_50 = M2[50:100]\n",
    "Third_50 = M2[100:150]\n",
    "Fourth_50 = M2[150:200]\n",
    "Fifth_50 = M2[200:206]\n",
    "\n",
    "First = list(First_50.index.values)\n",
    "Second = list(Second_50.index.values)\n",
    "Third = list(Third_50.index.values)\n",
    "Fourth = list(Fourth_50.index.values)\n",
    "Fifth = list(Fifth_50.index.values)\n",
    "\n",
    "Dialysis.drop(First, axis=1, inplace=True)\n",
    "Dialysis.drop(Second, axis=1, inplace=True)\n",
    "Dialysis.drop(Third, axis=1, inplace=True)\n",
    "Dialysis.drop(Fourth, axis=1, inplace=True)\n",
    "Dialysis.drop(Fifth, axis=1, inplace=True)"
   ]
  },
  {
   "cell_type": "code",
   "execution_count": 67,
   "metadata": {},
   "outputs": [
    {
     "name": "stdout",
     "output_type": "stream",
     "text": [
      "<class 'pandas.core.frame.DataFrame'>\n",
      "RangeIndex: 2410 entries, 0 to 2409\n",
      "Columns: 440 entries, PatientID to 6045F-8P-651\n",
      "dtypes: float64(1), int64(2), object(437)\n",
      "memory usage: 8.1+ MB\n"
     ]
    }
   ],
   "source": [
    "# Checking to see what the data now looks like after dropping columns with only NA values\n",
    "Dialysis.info()"
   ]
  },
  {
   "cell_type": "code",
   "execution_count": 68,
   "metadata": {},
   "outputs": [
    {
     "data": {
      "text/html": [
       "<div>\n",
       "<style scoped>\n",
       "    .dataframe tbody tr th:only-of-type {\n",
       "        vertical-align: middle;\n",
       "    }\n",
       "\n",
       "    .dataframe tbody tr th {\n",
       "        vertical-align: top;\n",
       "    }\n",
       "\n",
       "    .dataframe thead th {\n",
       "        text-align: right;\n",
       "    }\n",
       "</style>\n",
       "<table border=\"1\" class=\"dataframe\">\n",
       "  <thead>\n",
       "    <tr style=\"text-align: right;\">\n",
       "      <th></th>\n",
       "      <th>PatientID</th>\n",
       "      <th>SurgeonID</th>\n",
       "      <th>Days Until Next Intervention</th>\n",
       "      <th>Days Since last access procedure</th>\n",
       "      <th>Site of Service-4</th>\n",
       "      <th>patient age in years-7</th>\n",
       "      <th>Follow up after Difficulty-10</th>\n",
       "      <th>Status-20</th>\n",
       "      <th>Urgency-21</th>\n",
       "      <th>Patient on Hemodialysis?-22</th>\n",
       "      <th>...</th>\n",
       "      <th>99156 - Moderate sedation -639</th>\n",
       "      <th>99157 - Moderate sedation -640</th>\n",
       "      <th>36905 - Percutaneous trans-643</th>\n",
       "      <th>77001- Fluoroscopic guidan-644</th>\n",
       "      <th>6100F-645</th>\n",
       "      <th>6100F-8P-647</th>\n",
       "      <th>4048F-648</th>\n",
       "      <th>4048F-8P-649</th>\n",
       "      <th>6045F-650</th>\n",
       "      <th>6045F-8P-651</th>\n",
       "    </tr>\n",
       "  </thead>\n",
       "  <tbody>\n",
       "    <tr>\n",
       "      <td>0</td>\n",
       "      <td>TE1zaw/rjb/6RsoxKy36S6WMwoLTOu9OKZpYapmJqiU=</td>\n",
       "      <td>12</td>\n",
       "      <td>1626</td>\n",
       "      <td>NaN</td>\n",
       "      <td>\"Physician Office\"</td>\n",
       "      <td>NaN</td>\n",
       "      <td>NaN</td>\n",
       "      <td>NaN</td>\n",
       "      <td>NaN</td>\n",
       "      <td>NaN</td>\n",
       "      <td>...</td>\n",
       "      <td>NaN</td>\n",
       "      <td>NaN</td>\n",
       "      <td>NaN</td>\n",
       "      <td>NaN</td>\n",
       "      <td>NaN</td>\n",
       "      <td>NaN</td>\n",
       "      <td>NaN</td>\n",
       "      <td>NaN</td>\n",
       "      <td>NaN</td>\n",
       "      <td>NaN</td>\n",
       "    </tr>\n",
       "    <tr>\n",
       "      <td>1</td>\n",
       "      <td>xmu3QwmWPcKVese+cOurfy5GnDZHUmAadTSfd+EuT7E=</td>\n",
       "      <td>11</td>\n",
       "      <td>1543</td>\n",
       "      <td>NaN</td>\n",
       "      <td>\"Physician Office\"</td>\n",
       "      <td>NaN</td>\n",
       "      <td>NaN</td>\n",
       "      <td>NaN</td>\n",
       "      <td>NaN</td>\n",
       "      <td>NaN</td>\n",
       "      <td>...</td>\n",
       "      <td>NaN</td>\n",
       "      <td>NaN</td>\n",
       "      <td>NaN</td>\n",
       "      <td>NaN</td>\n",
       "      <td>NaN</td>\n",
       "      <td>NaN</td>\n",
       "      <td>NaN</td>\n",
       "      <td>NaN</td>\n",
       "      <td>NaN</td>\n",
       "      <td>NaN</td>\n",
       "    </tr>\n",
       "    <tr>\n",
       "      <td>2</td>\n",
       "      <td>6GB4V62mmxzrML4aLAo+G5R8LH3r6/W3DQcRINDwgIs=</td>\n",
       "      <td>7</td>\n",
       "      <td>1520</td>\n",
       "      <td>NaN</td>\n",
       "      <td>\"Physician Office\"</td>\n",
       "      <td>NaN</td>\n",
       "      <td>NaN</td>\n",
       "      <td>NaN</td>\n",
       "      <td>NaN</td>\n",
       "      <td>NaN</td>\n",
       "      <td>...</td>\n",
       "      <td>NaN</td>\n",
       "      <td>NaN</td>\n",
       "      <td>NaN</td>\n",
       "      <td>NaN</td>\n",
       "      <td>NaN</td>\n",
       "      <td>NaN</td>\n",
       "      <td>NaN</td>\n",
       "      <td>NaN</td>\n",
       "      <td>NaN</td>\n",
       "      <td>NaN</td>\n",
       "    </tr>\n",
       "    <tr>\n",
       "      <td>3</td>\n",
       "      <td>5AFK3p9flAkGlozhHwBbRz6cp7lv/rp8uoUPmqI5Wc8=</td>\n",
       "      <td>7</td>\n",
       "      <td>1125</td>\n",
       "      <td>NaN</td>\n",
       "      <td>\"Physician Office\"</td>\n",
       "      <td>NaN</td>\n",
       "      <td>NaN</td>\n",
       "      <td>\"Established\"</td>\n",
       "      <td>\"Elective\"</td>\n",
       "      <td>\"Yes\"</td>\n",
       "      <td>...</td>\n",
       "      <td>NaN</td>\n",
       "      <td>NaN</td>\n",
       "      <td>NaN</td>\n",
       "      <td>NaN</td>\n",
       "      <td>\"1\"</td>\n",
       "      <td>NaN</td>\n",
       "      <td>NaN</td>\n",
       "      <td>\"1\"</td>\n",
       "      <td>\"1\"</td>\n",
       "      <td>NaN</td>\n",
       "    </tr>\n",
       "    <tr>\n",
       "      <td>4</td>\n",
       "      <td>wRuNb+s9BiJo6C09SDloV9K/6dPg5GJWTXQ4PZW2Wzo=</td>\n",
       "      <td>11</td>\n",
       "      <td>1121</td>\n",
       "      <td>NaN</td>\n",
       "      <td>\"Physician Office\"</td>\n",
       "      <td>NaN</td>\n",
       "      <td>NaN</td>\n",
       "      <td>\"Established\"</td>\n",
       "      <td>\"Elective\"</td>\n",
       "      <td>\"Yes\"</td>\n",
       "      <td>...</td>\n",
       "      <td>NaN</td>\n",
       "      <td>NaN</td>\n",
       "      <td>NaN</td>\n",
       "      <td>NaN</td>\n",
       "      <td>\"1\"</td>\n",
       "      <td>NaN</td>\n",
       "      <td>NaN</td>\n",
       "      <td>\"1\"</td>\n",
       "      <td>\"1\"</td>\n",
       "      <td>NaN</td>\n",
       "    </tr>\n",
       "  </tbody>\n",
       "</table>\n",
       "<p>5 rows × 440 columns</p>\n",
       "</div>"
      ],
      "text/plain": [
       "                                      PatientID  SurgeonID  \\\n",
       "0  TE1zaw/rjb/6RsoxKy36S6WMwoLTOu9OKZpYapmJqiU=         12   \n",
       "1  xmu3QwmWPcKVese+cOurfy5GnDZHUmAadTSfd+EuT7E=         11   \n",
       "2  6GB4V62mmxzrML4aLAo+G5R8LH3r6/W3DQcRINDwgIs=          7   \n",
       "3  5AFK3p9flAkGlozhHwBbRz6cp7lv/rp8uoUPmqI5Wc8=          7   \n",
       "4  wRuNb+s9BiJo6C09SDloV9K/6dPg5GJWTXQ4PZW2Wzo=         11   \n",
       "\n",
       "   Days Until Next Intervention  Days Since last access procedure  \\\n",
       "0                          1626                               NaN   \n",
       "1                          1543                               NaN   \n",
       "2                          1520                               NaN   \n",
       "3                          1125                               NaN   \n",
       "4                          1121                               NaN   \n",
       "\n",
       "    Site of Service-4 patient age in years-7 Follow up after Difficulty-10  \\\n",
       "0  \"Physician Office\"                    NaN                           NaN   \n",
       "1  \"Physician Office\"                    NaN                           NaN   \n",
       "2  \"Physician Office\"                    NaN                           NaN   \n",
       "3  \"Physician Office\"                    NaN                           NaN   \n",
       "4  \"Physician Office\"                    NaN                           NaN   \n",
       "\n",
       "       Status-20  Urgency-21 Patient on Hemodialysis?-22  ...  \\\n",
       "0            NaN         NaN                         NaN  ...   \n",
       "1            NaN         NaN                         NaN  ...   \n",
       "2            NaN         NaN                         NaN  ...   \n",
       "3  \"Established\"  \"Elective\"                       \"Yes\"  ...   \n",
       "4  \"Established\"  \"Elective\"                       \"Yes\"  ...   \n",
       "\n",
       "  99156 - Moderate sedation -639 99157 - Moderate sedation -640  \\\n",
       "0                            NaN                            NaN   \n",
       "1                            NaN                            NaN   \n",
       "2                            NaN                            NaN   \n",
       "3                            NaN                            NaN   \n",
       "4                            NaN                            NaN   \n",
       "\n",
       "  36905 - Percutaneous trans-643 77001- Fluoroscopic guidan-644 6100F-645  \\\n",
       "0                            NaN                            NaN       NaN   \n",
       "1                            NaN                            NaN       NaN   \n",
       "2                            NaN                            NaN       NaN   \n",
       "3                            NaN                            NaN       \"1\"   \n",
       "4                            NaN                            NaN       \"1\"   \n",
       "\n",
       "  6100F-8P-647 4048F-648 4048F-8P-649 6045F-650 6045F-8P-651  \n",
       "0          NaN       NaN          NaN       NaN          NaN  \n",
       "1          NaN       NaN          NaN       NaN          NaN  \n",
       "2          NaN       NaN          NaN       NaN          NaN  \n",
       "3          NaN       NaN          \"1\"       \"1\"          NaN  \n",
       "4          NaN       NaN          \"1\"       \"1\"          NaN  \n",
       "\n",
       "[5 rows x 440 columns]"
      ]
     },
     "execution_count": 68,
     "metadata": {},
     "output_type": "execute_result"
    }
   ],
   "source": [
    "# Eyeballing the data\n",
    "Dialysis.head()"
   ]
  },
  {
   "cell_type": "code",
   "execution_count": 69,
   "metadata": {},
   "outputs": [
    {
     "data": {
      "text/plain": [
       "PatientID                            object\n",
       "SurgeonID                             int64\n",
       "Days Until Next Intervention          int64\n",
       "Days Since last access procedure    float64\n",
       "Site of Service-4                    object\n",
       "                                     ...   \n",
       "6100F-8P-647                         object\n",
       "4048F-648                            object\n",
       "4048F-8P-649                         object\n",
       "6045F-650                            object\n",
       "6045F-8P-651                         object\n",
       "Length: 440, dtype: object"
      ]
     },
     "execution_count": 69,
     "metadata": {},
     "output_type": "execute_result"
    }
   ],
   "source": [
    "# Checking to see the data type for each variable\n",
    "Dialysis.dtypes"
   ]
  },
  {
   "cell_type": "code",
   "execution_count": 70,
   "metadata": {},
   "outputs": [],
   "source": [
    "# Changing the data type of SurgeonID to categorical variable\n",
    "Dialysis['SurgeonID'] = Dialysis['SurgeonID'].astype(str) "
   ]
  },
  {
   "cell_type": "code",
   "execution_count": 71,
   "metadata": {},
   "outputs": [
    {
     "data": {
      "text/plain": [
       "['PatientID',\n",
       " 'SurgeonID',\n",
       " 'Days Until Next Intervention',\n",
       " 'Days Since last access procedure',\n",
       " 'Site of Service-4',\n",
       " 'patient age in years-7',\n",
       " 'Follow up after Difficulty-10',\n",
       " 'Status-20',\n",
       " 'Urgency-21',\n",
       " 'Patient on Hemodialysis?-22',\n",
       " 'Prolonged Bleeding-25',\n",
       " 'Swelling-26',\n",
       " 'Inadequate Clearance-27',\n",
       " 'Poor Arterial Inflow-28',\n",
       " 'Aneurysmal Degeneration-29',\n",
       " 'Pain-30',\n",
       " 'Inadequate Maturation-31',\n",
       " 'Clotted Access-32',\n",
       " 'Ischemic steal syndrome-33',\n",
       " 'Difficult Cannulation-34',\n",
       " 'Other-35',\n",
       " 'Type of most recent interv-36',\n",
       " 'Stenosis-37',\n",
       " 'High Venous Pressure-38',\n",
       " 'Extremity-41',\n",
       " 'Informed Consent (risks, b-42',\n",
       " 'Time Out Performed: Correc-43',\n",
       " 'Family Member-44',\n",
       " 'side-45',\n",
       " 'Anesthesia-46',\n",
       " 'Access Type-47',\n",
       " 'Access Type-48',\n",
       " 'extremity type-49',\n",
       " 'AV Fistula Type-50',\n",
       " 'AV Graft Type-51',\n",
       " 'Arterial Limb-52',\n",
       " 'AV Graft Type-53',\n",
       " 'Graft Configuration-54',\n",
       " 'Hero Type-55',\n",
       " 'Local-58',\n",
       " 'Moderate Sedation-59',\n",
       " 'Arterial Anastomosis-60',\n",
       " 'Patient was monitored and -64',\n",
       " 'Interval of Sedation-65',\n",
       " 'Lidocaine 1% (plain) cc-67',\n",
       " 'Moderate Sedation Applied -68',\n",
       " 'Lidocaine 1% (w Epi) cc-69',\n",
       " 'Sedation Start Time-72',\n",
       " 'Other Medication Name-74',\n",
       " 'Sedation End Time-75',\n",
       " 'Other Medication Amount (c-76',\n",
       " 'Femoral -78',\n",
       " 'Versed (mg)-80',\n",
       " 'Fentanyl (µg)-81',\n",
       " 'Other Medication Name-85',\n",
       " 'Other Medication Amount (m-86',\n",
       " 'Position-87',\n",
       " 'Ultrasound Guidance-88',\n",
       " 'Chlorhexadine-89',\n",
       " 'Alcohol-91',\n",
       " 'Iodine-92',\n",
       " 'Pre-operative Antibiotic-93',\n",
       " 'Thrombolysis-94',\n",
       " 'Thrombolysis Method-96',\n",
       " 'kauffmananast-97',\n",
       " 'forearma5anast-100',\n",
       " 'tPA Dose (mg)-105',\n",
       " 'Arterial-107',\n",
       " 'Prophylactic parenteral an-108',\n",
       " 'Venous-110',\n",
       " 'Micropuncture-114',\n",
       " 'Wire-116',\n",
       " 'Sheath-117',\n",
       " 'Systemic heparin administe-119',\n",
       " 'Arterial Inflow Tract-122',\n",
       " 'Copy Of Image Permanently -123',\n",
       " 'AV Fistula / AV Graft / Pe-125',\n",
       " 'Central Venous-126',\n",
       " 'Brachial Artery-128',\n",
       " \"Why wasn't image permanent-129\",\n",
       " 'Radial Artery-130',\n",
       " 'None-131',\n",
       " 'Mid Access-133',\n",
       " 'Venous Anastomosis-135',\n",
       " 'Cephalic Vein Forearm-136',\n",
       " 'Cephalic Vein Upper Arm-137',\n",
       " 'Cephalic Vein Arch-138',\n",
       " 'Basilic Vein, Mid Upper Ar-139',\n",
       " 'Basilic Vein, Prox Upper A-140',\n",
       " 'Brachial Vein, Mid Upper A-141',\n",
       " 'Brachial Vein, Prox Upper -142',\n",
       " 'None-143',\n",
       " 'Axillary-144',\n",
       " 'Subclavian-146',\n",
       " 'Innominate-147',\n",
       " 'Superior Vena Cava-148',\n",
       " 'Iliac -149',\n",
       " 'None-151',\n",
       " 'Approach Count-154',\n",
       " 'Stenosis-155',\n",
       " 'Aneurysm-156',\n",
       " '% Stenosis-157',\n",
       " 'Antegrade-158',\n",
       " 'Extent of Stenosis-160',\n",
       " 'Arterial Anastomosis-161',\n",
       " 'Retrograde-162',\n",
       " 'Aneurysm Type-168',\n",
       " 'Femoral Vein-172',\n",
       " 'Stenosis-176',\n",
       " 'Aneurysm-177',\n",
       " 'Balloon Size (mm)-180',\n",
       " 'Stenosis Treatment-181',\n",
       " 'Type-182',\n",
       " 'ATM-183',\n",
       " 'Stent edge-186',\n",
       " 'Intrastent-187',\n",
       " 'Peri-anastomotic-188',\n",
       " '% Residual Stenosis-191',\n",
       " 'radial-195',\n",
       " 'brachial-196',\n",
       " 'Treatment Summary Text-197',\n",
       " 'Summary Text-198',\n",
       " 'Balloon Duration-199',\n",
       " 'Stenosis-202',\n",
       " 'Aneurysm-203',\n",
       " '% Stenosis-204',\n",
       " 'Extent of Stenosis-205',\n",
       " 'Aneurysm Type-209',\n",
       " 'base arm-210',\n",
       " 'Involvement-211',\n",
       " 'cimino-213',\n",
       " 'kauffman-214',\n",
       " 'bvt-216',\n",
       " 'forearma5-220',\n",
       " 'upperarmstraight-223',\n",
       " 'subclavian-227',\n",
       " 'axillary-228',\n",
       " 'cephalicarch-229',\n",
       " 'midkauffman-231',\n",
       " 'forearma5anast-236',\n",
       " 'ciminomid-241',\n",
       " 'bvtprox-247',\n",
       " 'forearmloopa5venous-251',\n",
       " 'upperarmstraightvenous-252',\n",
       " 'forearmloopa5midgraft-256',\n",
       " 'kauffmananeurysm-261',\n",
       " 'Aneurysm Diameter-270',\n",
       " 'Aneurysm Treatment-271',\n",
       " 'Balloon Size (mm)-273',\n",
       " 'Stenosis-274',\n",
       " 'Aneurysm-275',\n",
       " 'Immature-276',\n",
       " 'Stenosis Treatment-278',\n",
       " 'Type-279',\n",
       " 'ATM-280',\n",
       " 'Lower Image Selection-283',\n",
       " 'Stent Size-284',\n",
       " 'Stent Type-285',\n",
       " 'Post-Stent Dilation-287',\n",
       " 'Stent edge-288',\n",
       " 'Stent Length-289',\n",
       " 'Intrastent-290',\n",
       " 'Peri-Anastomotic-291',\n",
       " '% Residual Stenosis-292',\n",
       " 'Successful Exclusion-293',\n",
       " 'cephalicarch-294',\n",
       " 'cephalicupperarm-296',\n",
       " 'midkauffman-297',\n",
       " 'ciminomid-298',\n",
       " 'basilicmid-299',\n",
       " 'bvtmid-300',\n",
       " 'basilicprox-301',\n",
       " 'bvtprox-302',\n",
       " 'brachialmid-303',\n",
       " 'brachialprox-304',\n",
       " 'forearmloopa1venous-305',\n",
       " 'forearmloopa5venous-306',\n",
       " 'upperarmstraightvenous-307',\n",
       " 'upperarmloopa1venous-308',\n",
       " 'upperarmloopa5venous-309',\n",
       " 'forearmloopa1midgraft-310',\n",
       " 'forearmloopa5midgraft-311',\n",
       " 'upperarmstraightmidgraft-312',\n",
       " 'upperarmloopa1midgraft-313',\n",
       " 'upperarmloopa5midgraft-314',\n",
       " 'Treatment Summary Text-315',\n",
       " 'Summary Text-316',\n",
       " 'Initial Needle Access (361-318',\n",
       " 'Additional Needle Access (-319',\n",
       " 'Transluminal balloon angio-321',\n",
       " 'Transluminal balloon angio-322',\n",
       " 'Transluminal balloon angio-323',\n",
       " 'Transcatheter placement of-324',\n",
       " 'Angiography, arteriovenous-327',\n",
       " 'Balloon Duration-334',\n",
       " 'Aneurysm Summary Text-335',\n",
       " 'Stenosis-336',\n",
       " 'Aneurysm-337',\n",
       " '% Stenosis-338',\n",
       " 'ciminoanast-339',\n",
       " 'kauffmananast-340',\n",
       " 'bvtanast-341',\n",
       " 'forearma1anast-342',\n",
       " 'forearma5anast-343',\n",
       " 'upperarmstraightanast-344',\n",
       " 'upperarmloopa1anast-345',\n",
       " 'upperarmloopa5anast-346',\n",
       " 'heroanast-347',\n",
       " 'Extent of Stenosis-348',\n",
       " 'Involvement-350',\n",
       " 'LowerAVGLatMid-351',\n",
       " 'LowerAVGLatArt-352',\n",
       " 'LowerAVGLatVenous-353',\n",
       " 'LowerAVGMedMid-354',\n",
       " 'LowerAVGMedVenous-356',\n",
       " 'FemVein-357',\n",
       " 'Aneurysm Diameter-358',\n",
       " 'Aneurysm Treatment-360',\n",
       " 'Balloon Size (mm)-363',\n",
       " 'Stenosis-364',\n",
       " 'Stenosis Treatment-365',\n",
       " 'Aneurysm-366',\n",
       " 'Type-369',\n",
       " 'ATM-370',\n",
       " 'Stent Size-371',\n",
       " 'Stent Type-374',\n",
       " 'Post-Stent Dilation-375',\n",
       " '% Residual Stenosis-376',\n",
       " 'Stent edge-377',\n",
       " 'Stent Length-378',\n",
       " 'Intrastent-379',\n",
       " 'Peri-anastomotic-380',\n",
       " 'svc-383',\n",
       " 'innominate-384',\n",
       " 'subclavian-385',\n",
       " 'axillary-386',\n",
       " 'Treatment Summary Text-387',\n",
       " 'Summary Text-389',\n",
       " 'Balloon Duration-391',\n",
       " 'base arm-392',\n",
       " 'cimino-393',\n",
       " 'kauffman-394',\n",
       " 'bvt-395',\n",
       " 'forearmloopa1-396',\n",
       " 'forearma5-397',\n",
       " 'upperarmloopa1-398',\n",
       " 'upperarmloopa5-399',\n",
       " 'upperarmstraight-400',\n",
       " 'hero-401',\n",
       " 'svc-402',\n",
       " 'innominate-403',\n",
       " 'subclavian-404',\n",
       " 'axillary-405',\n",
       " 'cephalicarch-406',\n",
       " 'cephalicupperarm-407',\n",
       " 'midkauffman-408',\n",
       " 'ciminoanast-409',\n",
       " 'kauffmananast-410',\n",
       " 'bvtanast-411',\n",
       " 'forearma1anast-412',\n",
       " 'forearma5anast-413',\n",
       " 'upperarmstraightanast-414',\n",
       " 'upperarmloopa1anast-415',\n",
       " 'upperarmloopa5anast-416',\n",
       " 'heroanast-417',\n",
       " 'ciminomid-418',\n",
       " 'radial-419',\n",
       " 'brachial-420',\n",
       " 'basilicmid-421',\n",
       " 'bvtmid-422',\n",
       " 'basilicprox-423',\n",
       " 'bvtprox-424',\n",
       " 'brachialmid-425',\n",
       " 'brachialprox-426',\n",
       " 'forearmloopa1venous-427',\n",
       " 'forearmloopa5venous-428',\n",
       " 'upperarmstraightvenous-429',\n",
       " 'upperarmloopa1venous-430',\n",
       " 'upperarmloopa5venous-431',\n",
       " 'forearmloopa1midgraft-432',\n",
       " 'forearmloopa5midgraft-433',\n",
       " 'upperarmstraightmidgraft-434',\n",
       " 'upperarmloopa1midgraft-435',\n",
       " 'upperarmloopa5midgraft-436',\n",
       " 'ciminoaneurysm-437',\n",
       " 'kauffmananeurysm-438',\n",
       " 'bvtaneurysm-439',\n",
       " 'forearmloopa1aneurysm-440',\n",
       " 'forearmloopa5aneurysm-441',\n",
       " 'upperarmstraightaneurysm-442',\n",
       " 'upperarmloopa1aneurysm-443',\n",
       " 'upperarmloopa5aneurysm-444',\n",
       " 'Injection of arterial segm-446',\n",
       " 'Aneurysm Layer-447',\n",
       " 'Ligation side branch-449',\n",
       " 'iliacvein-450',\n",
       " 'Embolization-451',\n",
       " 'Embolization Type-452',\n",
       " 'Follow up evaluation with -454',\n",
       " 'lower-456',\n",
       " 'Total Contrast Used (cc)-457',\n",
       " 'FemVein-458',\n",
       " 'iliacvein-459',\n",
       " 'LowerAVGLat-460',\n",
       " 'LowerAVGLatArt-461',\n",
       " 'LowerAVGMed-462',\n",
       " 'LowerAVGLatMid-463',\n",
       " 'LowerAVGLatVenous-464',\n",
       " 'LowerAVGMedMid-466',\n",
       " 'LowerAVGMedVenous-467',\n",
       " 'RLowerAVGLatAneurysm-469',\n",
       " 'Fluoroscopy Time (min)-470',\n",
       " 'Was artery cannulated subs-471',\n",
       " 'Tolerated Well-476',\n",
       " 'Adequate Hemostasis-477',\n",
       " 'Transported to Recovery, S-478',\n",
       " 'Significant Bleeding-479',\n",
       " 'Contrast Reaction-480',\n",
       " 'Widely patent-483',\n",
       " 'Aneurysmal degeneration-484',\n",
       " 'Limited arterial inflow-485',\n",
       " 'Venous outflow stenosis-486',\n",
       " 'Multiple outflow lesions-487',\n",
       " 'Chronic central vein occlu-488',\n",
       " 'Failing AVF-489',\n",
       " 'Coil Size-490',\n",
       " 'Post-Intervention Result-491',\n",
       " 'Fistula Maturity-492',\n",
       " 'Continue routine Access-494',\n",
       " 'Rotate Access sites-495',\n",
       " 'Establish new button hole-496',\n",
       " 'Utilize Perm Cath for Acce-497',\n",
       " 'Begin Accessing With Singl-498',\n",
       " 'Remove sutures in one week-499',\n",
       " 'Watch for signs of ischemi-500',\n",
       " 'Risk of future failure-501',\n",
       " 'As needed-502',\n",
       " 'Follow up office appointme-504',\n",
       " 'Follow up with ultrasound -505',\n",
       " 'Schedule for revision of a-506',\n",
       " 'Schedule for ligation of s-507',\n",
       " 'Schedule alternative acces-508',\n",
       " 'Schedule for perm cath pla-509',\n",
       " 'Follow up interval-510',\n",
       " 'Number Of Coils-512',\n",
       " 'At least 1 arterial balloo-513',\n",
       " 'At least 1 peripheral ball-516',\n",
       " 'At least 1 peripheral sten-517',\n",
       " 'At least 1 central balloon-518',\n",
       " 'At least 1 central stent-519',\n",
       " 'Embolization performed-520',\n",
       " 'At least 1 aneurysm-521',\n",
       " 'Side Branch-522',\n",
       " '36147 - Initial Needle Acc-523',\n",
       " '36148 - Additional Needle -524',\n",
       " '36870 - Percutaneous Throm-525',\n",
       " '35476 - Transluminal ballo-526',\n",
       " '35476-59 - Transluminal ba-527',\n",
       " '75978 - Transluminal ballo-528',\n",
       " '75791 - Angiography, arter-529',\n",
       " '35475 - Transluminal ballo-530',\n",
       " '75962 - Transluminal ballo-531',\n",
       " '37241 - Vascular embolizat-532',\n",
       " '996.73 - Other complicatio-533',\n",
       " '729.81 - Swelling of limb-534',\n",
       " '729.5 - Pain in soft tissu-535',\n",
       " 'Additional Codes-536',\n",
       " '37238 - Transcatheter plac-537',\n",
       " '37239 - Transcatheter plac-538',\n",
       " '76937 - Ultrasound Guidanc-539',\n",
       " '37607 - Ligation or bandin-540',\n",
       " 'Fluoroscopy Used-544',\n",
       " '36011 - Selective catheter-548',\n",
       " '36215 - Selective catheter-549',\n",
       " '75710 - Angiography, extre-550',\n",
       " 'T82.838A - Hemorrhage of v-552',\n",
       " 'Versed CPT Code-553',\n",
       " 'T82.838D - Hemorrhage of v-554',\n",
       " 'T82.590A - Other mechanica-556',\n",
       " 'T82.590D - Other mechanica-557',\n",
       " 'T82.591A - Other mechanica-559',\n",
       " 'T82.591D - Other mechanica-560',\n",
       " 'T82.868A - Thrombosis of v-562',\n",
       " 'T82.868D - Thrombosis of v-563',\n",
       " 'T82.868S - Thrombosis of v-564',\n",
       " 'T82.510D - Breakdown (mech-566',\n",
       " 'T82.511D - Breakdown (mech-569',\n",
       " 'T82.848A - Pain from vascu-571',\n",
       " 'T82.848D - Pain from vascu-572',\n",
       " 'T82.848S - Pain from vascu-573',\n",
       " 'T82.898A - Other specified-574',\n",
       " 'T82.898D - Other specified-575',\n",
       " 'T82.898S - Other specified-576',\n",
       " 'T82.858A - Stenosis of vas-577',\n",
       " 'T82.858D - Stenosis of vas-578',\n",
       " 'Z99.2 - Dependence on rena-580',\n",
       " 'Fentanyl dose in .1 mg-583',\n",
       " 'Fentanyl CPT Code-585',\n",
       " 'Drugs Administered Codes-586',\n",
       " '37248 - Transluminal ballo-587',\n",
       " '37249 - Transluminal ballo-588',\n",
       " '99152 - Moderate sedation -589',\n",
       " '99153 - Moderate sedation -590',\n",
       " '99156 - Moderate sedation -591',\n",
       " '99157 - Moderate sedation -592',\n",
       " '39604-606',\n",
       " '39505-607',\n",
       " 'x36147 - Initial Needle Ac-608',\n",
       " 'x36148 - Additional Needle-609',\n",
       " 'x36870 - Percutaneous Thro-610',\n",
       " 'x35476 - Transluminal ball-611',\n",
       " 'x35476-59 - Transluminal b-612',\n",
       " 'x75978 - Transluminal ball-613',\n",
       " 'x75791 - Angiography, arte-614',\n",
       " 'x35475 - Transluminal ball-615',\n",
       " '_37241 - Vascular emboliza-617',\n",
       " '_37242 - Vascular emboliza-618',\n",
       " '36902 - Introduction of ne-621',\n",
       " '36903 - Introduction of ne-622',\n",
       " '36904 - Percutaneous trans-623',\n",
       " '36905 - with transluminal -624',\n",
       " '36906 - Percutaneous trans-625',\n",
       " '36907 - Transluminal ballo-626',\n",
       " '36908 - Transcatheter plac-627',\n",
       " '36909 - Dialysis circuit p-628',\n",
       " '37246 - Transluminal ballo-629',\n",
       " '36215 - Selective catheter-634',\n",
       " '75710 - Angiography, extre-635',\n",
       " '99152 - Moderate sedation -636',\n",
       " '99153 - Moderate sedation -638',\n",
       " '99156 - Moderate sedation -639',\n",
       " '99157 - Moderate sedation -640',\n",
       " '36905 - Percutaneous trans-643',\n",
       " '77001- Fluoroscopic guidan-644',\n",
       " '6100F-645',\n",
       " '6100F-8P-647',\n",
       " '4048F-648',\n",
       " '4048F-8P-649',\n",
       " '6045F-650',\n",
       " '6045F-8P-651']"
      ]
     },
     "execution_count": 71,
     "metadata": {},
     "output_type": "execute_result"
    }
   ],
   "source": [
    "# Getting a list of column names\n",
    "Column_names = list(Dialysis.columns)\n",
    "Column_names"
   ]
  },
  {
   "cell_type": "markdown",
   "metadata": {},
   "source": [
    "*Removing double quotes around entries*"
   ]
  },
  {
   "cell_type": "code",
   "execution_count": 72,
   "metadata": {},
   "outputs": [],
   "source": [
    "First_group =['Site of Service-4', 'Follow up after Difficulty-10', 'patient age in years-7',\n",
    "             'Status-20', 'Urgency-21', 'Patient on Hemodialysis?-22']"
   ]
  },
  {
   "cell_type": "code",
   "execution_count": 73,
   "metadata": {},
   "outputs": [],
   "source": [
    "Second_group = ['Prolonged Bleeding-25',\n",
    " 'Swelling-26',\n",
    " 'Inadequate Clearance-27',\n",
    " 'Poor Arterial Inflow-28',\n",
    " 'Aneurysmal Degeneration-29',\n",
    " 'Pain-30',\n",
    " 'Inadequate Maturation-31',\n",
    " 'Clotted Access-32',\n",
    " 'Ischemic steal syndrome-33',\n",
    " 'Difficult Cannulation-34',\n",
    " 'Other-35',\n",
    " 'Type of most recent interv-36',\n",
    " 'Stenosis-37',\n",
    " 'High Venous Pressure-38',\n",
    " 'Extremity-41',\n",
    " 'Informed Consent (risks, b-42']"
   ]
  },
  {
   "cell_type": "code",
   "execution_count": 74,
   "metadata": {},
   "outputs": [],
   "source": [
    "Third_group = ['Time Out Performed: Correc-43', 'Family Member-44', 'Anesthesia-46', 'Access Type-47',\n",
    " 'Access Type-48', 'AV Fistula Type-50', 'AV Graft Type-51',\n",
    " 'Arterial Limb-52',\n",
    " 'AV Graft Type-53',\n",
    " 'Graft Configuration-54',\n",
    " 'Hero Type-55',\n",
    " 'Local-58',\n",
    " 'Moderate Sedation-59',\n",
    " 'Arterial Anastomosis-60',\n",
    " 'Patient was monitored and -64',\n",
    " 'Interval of Sedation-65',\n",
    " 'Lidocaine 1% (plain) cc-67',\n",
    " 'Moderate Sedation Applied -68',\n",
    " 'Lidocaine 1% (w Epi) cc-69',\n",
    " 'Sedation Start Time-72',\n",
    " 'Other Medication Name-74', 'Other Medication Amount (c-76',\n",
    " 'Femoral -78',\n",
    " 'Versed (mg)-80',\n",
    " 'Fentanyl (µg)-81',\n",
    " 'Other Medication Name-85',\n",
    " 'Other Medication Amount (m-86',\n",
    " 'Position-87',\n",
    " 'Ultrasound Guidance-88',\n",
    " 'Chlorhexadine-89',\n",
    " 'Alcohol-91',\n",
    " 'Iodine-92',\n",
    " 'Pre-operative Antibiotic-93',\n",
    " 'Thrombolysis-94',\n",
    " 'Thrombolysis Method-96', 'tPA Dose (mg)-105',\n",
    " 'Arterial-107',\n",
    " 'Prophylactic parenteral an-108',\n",
    " 'Venous-110',\n",
    " 'Micropuncture-114',\n",
    " 'Wire-116',\n",
    " 'Sheath-117',\n",
    " 'Systemic heparin administe-119', 'Central Venous-126',\n",
    " 'Brachial Artery-128','Radial Artery-130',\n",
    " 'None-131',\n",
    " 'Mid Access-133',\n",
    " 'Venous Anastomosis-135',  'Aneurysm-177',\n",
    " 'Balloon Size (mm)-180',\n",
    " 'Stenosis Treatment-181',\n",
    " 'Type-182', 'Stent edge-186','Peri-anastomotic-188',\n",
    " '% Residual Stenosis-191',\n",
    " 'radial-195',\n",
    " 'brachial-196',\n",
    " 'Treatment Summary Text-197',\n",
    " 'Summary Text-198',\n",
    " 'Balloon Duration-199',\n",
    " 'Stenosis-202',\n",
    " 'Aneurysm-203',\n",
    " '% Stenosis-204',\n",
    " 'Extent of Stenosis-205',\n",
    " 'Aneurysm Type-209', 'Aneurysm Diameter-270',\n",
    " 'Aneurysm Treatment-271',\n",
    " 'Balloon Size (mm)-273',\n",
    " 'Stenosis-274',\n",
    " 'Aneurysm-275',\n",
    " 'Immature-276',\n",
    " 'Stenosis Treatment-278',\n",
    " 'Type-279', 'Stent Size-284',\n",
    " 'Stent Type-285',\n",
    " 'Post-Stent Dilation-287',\n",
    " 'Stent edge-288',\n",
    " 'Stent Length-289',\n",
    " 'Intrastent-290', '% Residual Stenosis-292',\n",
    " 'Successful Exclusion-293', 'Treatment Summary Text-315',\n",
    " 'Summary Text-316',\n",
    " 'Initial Needle Access (361-318',\n",
    " 'Additional Needle Access (-319',\n",
    " 'Transluminal balloon angio-321',\n",
    " 'Transluminal balloon angio-322',\n",
    " 'Transluminal balloon angio-323',\n",
    " 'Transcatheter placement of-324',\n",
    " 'Angiography, arteriovenous-327',\n",
    " 'Balloon Duration-334',\n",
    " 'Aneurysm Summary Text-335',\n",
    " 'Stenosis-336',\n",
    " 'Aneurysm-337', 'Aneurysm Diameter-358',\n",
    " 'Aneurysm Treatment-360',\n",
    " 'Balloon Size (mm)-363',\n",
    " 'Stenosis-364',\n",
    " 'Stenosis Treatment-365',\n",
    " 'Aneurysm-366',\n",
    " 'Type-369',\n",
    " 'ATM-370',\n",
    " 'Stent Size-371',\n",
    " 'Stent Type-374',\n",
    " 'Post-Stent Dilation-375',\n",
    " '% Residual Stenosis-376',\n",
    " 'Stent edge-377',\n",
    " 'Stent Length-378',\n",
    " 'Intrastent-379', 'Treatment Summary Text-387',\n",
    " 'Summary Text-389',\n",
    " 'Balloon Duration-391', 'Ligation side branch-449',\n",
    " 'iliacvein-450',\n",
    " 'Embolization-451',\n",
    " 'Embolization Type-452', 'Fluoroscopy Time (min)-470', 'Was artery cannulated subs-471',\n",
    " 'Tolerated Well-476',\n",
    " 'Adequate Hemostasis-477',\n",
    " 'Transported to Recovery, S-478',\n",
    " 'Significant Bleeding-479', 'Post-Intervention Result-491', 'Follow up interval-510',\n",
    " 'Number Of Coils-512']"
   ]
  },
  {
   "cell_type": "code",
   "execution_count": 75,
   "metadata": {},
   "outputs": [],
   "source": [
    "Quotes_fixed = First_group + Second_group + Third_group"
   ]
  },
  {
   "cell_type": "code",
   "execution_count": 76,
   "metadata": {},
   "outputs": [],
   "source": [
    "for i in Quotes_fixed:\n",
    "    Dialysis[i] = Dialysis[i].str.strip('\\\"')"
   ]
  },
  {
   "cell_type": "markdown",
   "metadata": {},
   "source": [
    "*Selecting columns to be used for analysis*"
   ]
  },
  {
   "cell_type": "code",
   "execution_count": 77,
   "metadata": {},
   "outputs": [],
   "source": [
    "Select_columns = ['SurgeonID',\n",
    " 'Days Until Next Intervention',\n",
    " 'Days Since last access procedure',\n",
    " 'Site of Service-4',\n",
    " 'patient age in years-7',\n",
    " 'Follow up after Difficulty-10',\n",
    " 'Status-20',\n",
    " 'Urgency-21',\n",
    " 'Patient on Hemodialysis?-22', 'Prolonged Bleeding-25',\n",
    " 'Swelling-26',\n",
    " 'Inadequate Clearance-27',\n",
    " 'Poor Arterial Inflow-28',\n",
    " 'Aneurysmal Degeneration-29',\n",
    " 'Pain-30',\n",
    " 'Inadequate Maturation-31',\n",
    " 'Clotted Access-32',\n",
    " 'Ischemic steal syndrome-33',\n",
    " 'Difficult Cannulation-34',\n",
    " 'Other-35',\n",
    " 'Type of most recent interv-36',\n",
    " 'Stenosis-37',\n",
    " 'High Venous Pressure-38',\n",
    " 'Extremity-41',\n",
    " 'Informed Consent (risks, b-42', 'Time Out Performed: Correc-43', 'Family Member-44', 'Anesthesia-46',\n",
    " 'Access Type-48', 'AV Fistula Type-50', 'AV Graft Type-51',\n",
    " 'Arterial Limb-52',\n",
    " 'AV Graft Type-53',\n",
    " 'Graft Configuration-54',\n",
    " 'Hero Type-55',\n",
    " 'Local-58',\n",
    " 'Moderate Sedation-59',\n",
    " 'Arterial Anastomosis-60',\n",
    " 'Patient was monitored and -64',\n",
    " 'Interval of Sedation-65',\n",
    " 'Lidocaine 1% (plain) cc-67',\n",
    " 'Moderate Sedation Applied -68',\n",
    " 'Lidocaine 1% (w Epi) cc-69',\n",
    " 'Other Medication Name-74', 'Other Medication Amount (c-76',\n",
    " 'Femoral -78',\n",
    " 'Versed (mg)-80',\n",
    " 'Fentanyl (µg)-81',\n",
    " 'Other Medication Name-85',\n",
    " 'Other Medication Amount (m-86',\n",
    " 'Position-87',\n",
    " 'Ultrasound Guidance-88',\n",
    " 'Chlorhexadine-89',\n",
    " 'Alcohol-91',\n",
    " 'Iodine-92',\n",
    " 'Pre-operative Antibiotic-93',\n",
    " 'Thrombolysis-94',\n",
    " 'Thrombolysis Method-96', 'tPA Dose (mg)-105',\n",
    " 'Arterial-107',\n",
    " 'Prophylactic parenteral an-108',\n",
    " 'Venous-110',\n",
    " 'Micropuncture-114',\n",
    " 'Wire-116',\n",
    " 'Sheath-117',\n",
    " 'Systemic heparin administe-119', 'Central Venous-126',\n",
    " 'Brachial Artery-128','Radial Artery-130',\n",
    " 'None-131',\n",
    " 'Mid Access-133',\n",
    " 'Venous Anastomosis-135',  'Aneurysm-177',\n",
    " 'Balloon Size (mm)-180',\n",
    " 'Stenosis Treatment-181',\n",
    " 'Type-182', 'Stent edge-186','Peri-anastomotic-188',\n",
    " '% Residual Stenosis-191',\n",
    " 'radial-195',\n",
    " 'brachial-196',\n",
    " 'Treatment Summary Text-197',\n",
    " 'Summary Text-198',\n",
    " 'Balloon Duration-199',\n",
    " 'Stenosis-202',\n",
    " 'Aneurysm-203',\n",
    " '% Stenosis-204',\n",
    " 'Extent of Stenosis-205',\n",
    " 'Aneurysm Type-209', 'Aneurysm Diameter-270',\n",
    " 'Aneurysm Treatment-271',\n",
    " 'Balloon Size (mm)-273',\n",
    " 'Stenosis-274',\n",
    " 'Aneurysm-275',\n",
    " 'Immature-276',\n",
    " 'Stenosis Treatment-278',\n",
    " 'Type-279', 'Stent Size-284',\n",
    " 'Stent Type-285',\n",
    " 'Post-Stent Dilation-287',\n",
    " 'Stent edge-288',\n",
    " 'Stent Length-289',\n",
    " 'Intrastent-290', '% Residual Stenosis-292',\n",
    " 'Successful Exclusion-293', 'Treatment Summary Text-315',\n",
    " 'Summary Text-316',\n",
    " 'Initial Needle Access (361-318',\n",
    " 'Additional Needle Access (-319',\n",
    " 'Transluminal balloon angio-321',\n",
    " 'Transluminal balloon angio-322',\n",
    " 'Transluminal balloon angio-323',\n",
    " 'Transcatheter placement of-324',\n",
    " 'Angiography, arteriovenous-327',\n",
    " 'Balloon Duration-334',\n",
    " 'Aneurysm Summary Text-335',\n",
    " 'Stenosis-336',\n",
    " 'Aneurysm-337', 'Aneurysm Diameter-358',\n",
    " 'Balloon Size (mm)-363',\n",
    " 'Stenosis-364',\n",
    " 'Stenosis Treatment-365',\n",
    " 'Aneurysm-366',\n",
    " 'Type-369',\n",
    " 'ATM-370',\n",
    " 'Stent Size-371',\n",
    " 'Stent Type-374',\n",
    " 'Post-Stent Dilation-375',\n",
    " '% Residual Stenosis-376',\n",
    " 'Stent edge-377',\n",
    " 'Stent Length-378',\n",
    " 'Intrastent-379', \n",
    " 'Embolization-451',\n",
    " 'Embolization Type-452', 'Fluoroscopy Time (min)-470', 'Was artery cannulated subs-471',\n",
    " 'Tolerated Well-476',\n",
    " 'Adequate Hemostasis-477',\n",
    " 'Transported to Recovery, S-478',\n",
    " 'Significant Bleeding-479', 'Post-Intervention Result-491', 'Follow up interval-510',\n",
    " 'Number Of Coils-512']"
   ]
  },
  {
   "cell_type": "code",
   "execution_count": 78,
   "metadata": {},
   "outputs": [
    {
     "name": "stdout",
     "output_type": "stream",
     "text": [
      "<class 'pandas.core.frame.DataFrame'>\n",
      "RangeIndex: 2410 entries, 0 to 2409\n",
      "Columns: 143 entries, SurgeonID to Number Of Coils-512\n",
      "dtypes: float64(1), int64(1), object(141)\n",
      "memory usage: 2.6+ MB\n"
     ]
    }
   ],
   "source": [
    "# Creating a subset of the data for the selected columns\n",
    "Data_subset = Dialysis[Select_columns]\n",
    "Data_subset.info()"
   ]
  },
  {
   "cell_type": "code",
   "execution_count": 79,
   "metadata": {},
   "outputs": [
    {
     "data": {
      "text/html": [
       "<div>\n",
       "<style scoped>\n",
       "    .dataframe tbody tr th:only-of-type {\n",
       "        vertical-align: middle;\n",
       "    }\n",
       "\n",
       "    .dataframe tbody tr th {\n",
       "        vertical-align: top;\n",
       "    }\n",
       "\n",
       "    .dataframe thead th {\n",
       "        text-align: right;\n",
       "    }\n",
       "</style>\n",
       "<table border=\"1\" class=\"dataframe\">\n",
       "  <thead>\n",
       "    <tr style=\"text-align: right;\">\n",
       "      <th></th>\n",
       "      <th>SurgeonID</th>\n",
       "      <th>Days Until Next Intervention</th>\n",
       "      <th>Days Since last access procedure</th>\n",
       "      <th>Site of Service-4</th>\n",
       "      <th>patient age in years-7</th>\n",
       "      <th>Follow up after Difficulty-10</th>\n",
       "      <th>Status-20</th>\n",
       "      <th>Urgency-21</th>\n",
       "      <th>Patient on Hemodialysis?-22</th>\n",
       "      <th>Prolonged Bleeding-25</th>\n",
       "      <th>Swelling-26</th>\n",
       "      <th>Inadequate Clearance-27</th>\n",
       "      <th>Poor Arterial Inflow-28</th>\n",
       "      <th>Aneurysmal Degeneration-29</th>\n",
       "      <th>Pain-30</th>\n",
       "      <th>Inadequate Maturation-31</th>\n",
       "      <th>Clotted Access-32</th>\n",
       "      <th>Ischemic steal syndrome-33</th>\n",
       "      <th>Difficult Cannulation-34</th>\n",
       "      <th>Other-35</th>\n",
       "    </tr>\n",
       "  </thead>\n",
       "  <tbody>\n",
       "    <tr>\n",
       "      <td>0</td>\n",
       "      <td>12</td>\n",
       "      <td>1626</td>\n",
       "      <td>NaN</td>\n",
       "      <td>Physician Office</td>\n",
       "      <td>NaN</td>\n",
       "      <td>NaN</td>\n",
       "      <td>NaN</td>\n",
       "      <td>NaN</td>\n",
       "      <td>NaN</td>\n",
       "      <td>NaN</td>\n",
       "      <td>NaN</td>\n",
       "      <td>1</td>\n",
       "      <td>NaN</td>\n",
       "      <td>NaN</td>\n",
       "      <td>NaN</td>\n",
       "      <td>NaN</td>\n",
       "      <td>NaN</td>\n",
       "      <td>NaN</td>\n",
       "      <td>NaN</td>\n",
       "      <td>NaN</td>\n",
       "    </tr>\n",
       "    <tr>\n",
       "      <td>1</td>\n",
       "      <td>11</td>\n",
       "      <td>1543</td>\n",
       "      <td>NaN</td>\n",
       "      <td>Physician Office</td>\n",
       "      <td>NaN</td>\n",
       "      <td>NaN</td>\n",
       "      <td>NaN</td>\n",
       "      <td>NaN</td>\n",
       "      <td>NaN</td>\n",
       "      <td>1</td>\n",
       "      <td>NaN</td>\n",
       "      <td>NaN</td>\n",
       "      <td>NaN</td>\n",
       "      <td>NaN</td>\n",
       "      <td>NaN</td>\n",
       "      <td>NaN</td>\n",
       "      <td>NaN</td>\n",
       "      <td>NaN</td>\n",
       "      <td>NaN</td>\n",
       "      <td>NaN</td>\n",
       "    </tr>\n",
       "    <tr>\n",
       "      <td>2</td>\n",
       "      <td>7</td>\n",
       "      <td>1520</td>\n",
       "      <td>NaN</td>\n",
       "      <td>Physician Office</td>\n",
       "      <td>NaN</td>\n",
       "      <td>NaN</td>\n",
       "      <td>NaN</td>\n",
       "      <td>NaN</td>\n",
       "      <td>NaN</td>\n",
       "      <td>1</td>\n",
       "      <td>NaN</td>\n",
       "      <td>NaN</td>\n",
       "      <td>NaN</td>\n",
       "      <td>NaN</td>\n",
       "      <td>NaN</td>\n",
       "      <td>NaN</td>\n",
       "      <td>NaN</td>\n",
       "      <td>NaN</td>\n",
       "      <td>NaN</td>\n",
       "      <td>NaN</td>\n",
       "    </tr>\n",
       "    <tr>\n",
       "      <td>3</td>\n",
       "      <td>7</td>\n",
       "      <td>1125</td>\n",
       "      <td>NaN</td>\n",
       "      <td>Physician Office</td>\n",
       "      <td>NaN</td>\n",
       "      <td>NaN</td>\n",
       "      <td>Established</td>\n",
       "      <td>Elective</td>\n",
       "      <td>Yes</td>\n",
       "      <td>1</td>\n",
       "      <td>NaN</td>\n",
       "      <td>NaN</td>\n",
       "      <td>NaN</td>\n",
       "      <td>NaN</td>\n",
       "      <td>NaN</td>\n",
       "      <td>NaN</td>\n",
       "      <td>NaN</td>\n",
       "      <td>NaN</td>\n",
       "      <td>NaN</td>\n",
       "      <td>NaN</td>\n",
       "    </tr>\n",
       "    <tr>\n",
       "      <td>4</td>\n",
       "      <td>11</td>\n",
       "      <td>1121</td>\n",
       "      <td>NaN</td>\n",
       "      <td>Physician Office</td>\n",
       "      <td>NaN</td>\n",
       "      <td>NaN</td>\n",
       "      <td>Established</td>\n",
       "      <td>Elective</td>\n",
       "      <td>Yes</td>\n",
       "      <td>NaN</td>\n",
       "      <td>NaN</td>\n",
       "      <td>NaN</td>\n",
       "      <td>NaN</td>\n",
       "      <td>NaN</td>\n",
       "      <td>NaN</td>\n",
       "      <td>NaN</td>\n",
       "      <td>NaN</td>\n",
       "      <td>NaN</td>\n",
       "      <td>1</td>\n",
       "      <td>NaN</td>\n",
       "    </tr>\n",
       "  </tbody>\n",
       "</table>\n",
       "</div>"
      ],
      "text/plain": [
       "  SurgeonID  Days Until Next Intervention  Days Since last access procedure  \\\n",
       "0        12                          1626                               NaN   \n",
       "1        11                          1543                               NaN   \n",
       "2         7                          1520                               NaN   \n",
       "3         7                          1125                               NaN   \n",
       "4        11                          1121                               NaN   \n",
       "\n",
       "  Site of Service-4 patient age in years-7 Follow up after Difficulty-10  \\\n",
       "0  Physician Office                    NaN                           NaN   \n",
       "1  Physician Office                    NaN                           NaN   \n",
       "2  Physician Office                    NaN                           NaN   \n",
       "3  Physician Office                    NaN                           NaN   \n",
       "4  Physician Office                    NaN                           NaN   \n",
       "\n",
       "     Status-20 Urgency-21 Patient on Hemodialysis?-22 Prolonged Bleeding-25  \\\n",
       "0          NaN        NaN                         NaN                   NaN   \n",
       "1          NaN        NaN                         NaN                     1   \n",
       "2          NaN        NaN                         NaN                     1   \n",
       "3  Established   Elective                         Yes                     1   \n",
       "4  Established   Elective                         Yes                   NaN   \n",
       "\n",
       "  Swelling-26 Inadequate Clearance-27 Poor Arterial Inflow-28  \\\n",
       "0         NaN                       1                     NaN   \n",
       "1         NaN                     NaN                     NaN   \n",
       "2         NaN                     NaN                     NaN   \n",
       "3         NaN                     NaN                     NaN   \n",
       "4         NaN                     NaN                     NaN   \n",
       "\n",
       "  Aneurysmal Degeneration-29 Pain-30 Inadequate Maturation-31  \\\n",
       "0                        NaN     NaN                      NaN   \n",
       "1                        NaN     NaN                      NaN   \n",
       "2                        NaN     NaN                      NaN   \n",
       "3                        NaN     NaN                      NaN   \n",
       "4                        NaN     NaN                      NaN   \n",
       "\n",
       "  Clotted Access-32 Ischemic steal syndrome-33 Difficult Cannulation-34  \\\n",
       "0               NaN                        NaN                      NaN   \n",
       "1               NaN                        NaN                      NaN   \n",
       "2               NaN                        NaN                      NaN   \n",
       "3               NaN                        NaN                      NaN   \n",
       "4               NaN                        NaN                        1   \n",
       "\n",
       "  Other-35  \n",
       "0      NaN  \n",
       "1      NaN  \n",
       "2      NaN  \n",
       "3      NaN  \n",
       "4      NaN  "
      ]
     },
     "execution_count": 79,
     "metadata": {},
     "output_type": "execute_result"
    }
   ],
   "source": [
    "# Eyeballing the new dataframe\n",
    "Data_subset.iloc[0:5, 0:20]"
   ]
  },
  {
   "cell_type": "code",
   "execution_count": 80,
   "metadata": {},
   "outputs": [
    {
     "name": "stderr",
     "output_type": "stream",
     "text": [
      "C:\\Users\\eyita\\Anaconda3\\lib\\site-packages\\ipykernel_launcher.py:8: SettingWithCopyWarning: \n",
      "A value is trying to be set on a copy of a slice from a DataFrame.\n",
      "Try using .loc[row_indexer,col_indexer] = value instead\n",
      "\n",
      "See the caveats in the documentation: http://pandas.pydata.org/pandas-docs/stable/user_guide/indexing.html#returning-a-view-versus-a-copy\n",
      "  \n"
     ]
    }
   ],
   "source": [
    "# Adjusting entries with string characters for the age column column\n",
    "def tranform_age(x):\n",
    "    if x == '> 90':\n",
    "        return '90'\n",
    "    else:\n",
    "        return x\n",
    "\n",
    "Data_subset['patient age in years-7'] = Data_subset['patient age in years-7'].apply(tranform_age)"
   ]
  },
  {
   "cell_type": "markdown",
   "metadata": {},
   "source": [
    "*Changing the data type to numeric for continuous variables initially stored as categorical variables*"
   ]
  },
  {
   "cell_type": "code",
   "execution_count": 81,
   "metadata": {},
   "outputs": [
    {
     "name": "stderr",
     "output_type": "stream",
     "text": [
      "C:\\Users\\eyita\\Anaconda3\\lib\\site-packages\\ipykernel_launcher.py:1: SettingWithCopyWarning: \n",
      "A value is trying to be set on a copy of a slice from a DataFrame.\n",
      "Try using .loc[row_indexer,col_indexer] = value instead\n",
      "\n",
      "See the caveats in the documentation: http://pandas.pydata.org/pandas-docs/stable/user_guide/indexing.html#returning-a-view-versus-a-copy\n",
      "  \"\"\"Entry point for launching an IPython kernel.\n",
      "C:\\Users\\eyita\\Anaconda3\\lib\\site-packages\\ipykernel_launcher.py:2: SettingWithCopyWarning: \n",
      "A value is trying to be set on a copy of a slice from a DataFrame.\n",
      "Try using .loc[row_indexer,col_indexer] = value instead\n",
      "\n",
      "See the caveats in the documentation: http://pandas.pydata.org/pandas-docs/stable/user_guide/indexing.html#returning-a-view-versus-a-copy\n",
      "  \n",
      "C:\\Users\\eyita\\Anaconda3\\lib\\site-packages\\ipykernel_launcher.py:3: SettingWithCopyWarning: \n",
      "A value is trying to be set on a copy of a slice from a DataFrame.\n",
      "Try using .loc[row_indexer,col_indexer] = value instead\n",
      "\n",
      "See the caveats in the documentation: http://pandas.pydata.org/pandas-docs/stable/user_guide/indexing.html#returning-a-view-versus-a-copy\n",
      "  This is separate from the ipykernel package so we can avoid doing imports until\n",
      "C:\\Users\\eyita\\Anaconda3\\lib\\site-packages\\ipykernel_launcher.py:4: SettingWithCopyWarning: \n",
      "A value is trying to be set on a copy of a slice from a DataFrame.\n",
      "Try using .loc[row_indexer,col_indexer] = value instead\n",
      "\n",
      "See the caveats in the documentation: http://pandas.pydata.org/pandas-docs/stable/user_guide/indexing.html#returning-a-view-versus-a-copy\n",
      "  after removing the cwd from sys.path.\n",
      "C:\\Users\\eyita\\Anaconda3\\lib\\site-packages\\ipykernel_launcher.py:5: SettingWithCopyWarning: \n",
      "A value is trying to be set on a copy of a slice from a DataFrame.\n",
      "Try using .loc[row_indexer,col_indexer] = value instead\n",
      "\n",
      "See the caveats in the documentation: http://pandas.pydata.org/pandas-docs/stable/user_guide/indexing.html#returning-a-view-versus-a-copy\n",
      "  \"\"\"\n",
      "C:\\Users\\eyita\\Anaconda3\\lib\\site-packages\\ipykernel_launcher.py:6: SettingWithCopyWarning: \n",
      "A value is trying to be set on a copy of a slice from a DataFrame.\n",
      "Try using .loc[row_indexer,col_indexer] = value instead\n",
      "\n",
      "See the caveats in the documentation: http://pandas.pydata.org/pandas-docs/stable/user_guide/indexing.html#returning-a-view-versus-a-copy\n",
      "  \n",
      "C:\\Users\\eyita\\Anaconda3\\lib\\site-packages\\ipykernel_launcher.py:7: SettingWithCopyWarning: \n",
      "A value is trying to be set on a copy of a slice from a DataFrame.\n",
      "Try using .loc[row_indexer,col_indexer] = value instead\n",
      "\n",
      "See the caveats in the documentation: http://pandas.pydata.org/pandas-docs/stable/user_guide/indexing.html#returning-a-view-versus-a-copy\n",
      "  import sys\n",
      "C:\\Users\\eyita\\Anaconda3\\lib\\site-packages\\ipykernel_launcher.py:8: SettingWithCopyWarning: \n",
      "A value is trying to be set on a copy of a slice from a DataFrame.\n",
      "Try using .loc[row_indexer,col_indexer] = value instead\n",
      "\n",
      "See the caveats in the documentation: http://pandas.pydata.org/pandas-docs/stable/user_guide/indexing.html#returning-a-view-versus-a-copy\n",
      "  \n",
      "C:\\Users\\eyita\\Anaconda3\\lib\\site-packages\\ipykernel_launcher.py:9: SettingWithCopyWarning: \n",
      "A value is trying to be set on a copy of a slice from a DataFrame.\n",
      "Try using .loc[row_indexer,col_indexer] = value instead\n",
      "\n",
      "See the caveats in the documentation: http://pandas.pydata.org/pandas-docs/stable/user_guide/indexing.html#returning-a-view-versus-a-copy\n",
      "  if __name__ == '__main__':\n",
      "C:\\Users\\eyita\\Anaconda3\\lib\\site-packages\\ipykernel_launcher.py:10: SettingWithCopyWarning: \n",
      "A value is trying to be set on a copy of a slice from a DataFrame.\n",
      "Try using .loc[row_indexer,col_indexer] = value instead\n",
      "\n",
      "See the caveats in the documentation: http://pandas.pydata.org/pandas-docs/stable/user_guide/indexing.html#returning-a-view-versus-a-copy\n",
      "  # Remove the CWD from sys.path while we load stuff.\n",
      "C:\\Users\\eyita\\Anaconda3\\lib\\site-packages\\ipykernel_launcher.py:11: SettingWithCopyWarning: \n",
      "A value is trying to be set on a copy of a slice from a DataFrame.\n",
      "Try using .loc[row_indexer,col_indexer] = value instead\n",
      "\n",
      "See the caveats in the documentation: http://pandas.pydata.org/pandas-docs/stable/user_guide/indexing.html#returning-a-view-versus-a-copy\n",
      "  # This is added back by InteractiveShellApp.init_path()\n"
     ]
    }
   ],
   "source": [
    "Data_subset['patient age in years-7'] = Data_subset['patient age in years-7'].astype(float)\n",
    "Data_subset['Lidocaine 1% (plain) cc-67'] = Data_subset['Lidocaine 1% (plain) cc-67'].astype(float)\n",
    "Data_subset['Lidocaine 1% (w Epi) cc-69'] = Data_subset['Lidocaine 1% (w Epi) cc-69'].astype(float)\n",
    "Data_subset['Other Medication Amount (c-76'] = Data_subset['Other Medication Amount (c-76'].astype(float)\n",
    "Data_subset['Other Medication Amount (m-86'] = Data_subset['Other Medication Amount (m-86'].astype(float)\n",
    "Data_subset['Versed (mg)-80'] = Data_subset['Versed (mg)-80'].astype(float)\n",
    "Data_subset['Fentanyl (µg)-81'] = Data_subset['Fentanyl (µg)-81'].astype(float)\n",
    "Data_subset['tPA Dose (mg)-105'] = Data_subset['tPA Dose (mg)-105'].astype(float)\n",
    "Data_subset['Number Of Coils-512'] = Data_subset['Number Of Coils-512'].astype(float)\n",
    "Data_subset['Fluoroscopy Time (min)-470'] = Data_subset['Fluoroscopy Time (min)-470'].astype(float)\n",
    "Data_subset['Systemic heparin administe-119'] = Data_subset['Systemic heparin administe-119'].astype(float)"
   ]
  },
  {
   "cell_type": "code",
   "execution_count": 82,
   "metadata": {},
   "outputs": [
    {
     "data": {
      "text/plain": [
       "(2410, 143)"
      ]
     },
     "execution_count": 82,
     "metadata": {},
     "output_type": "execute_result"
    }
   ],
   "source": [
    "# Checking the number of rows and columns of the data set\n",
    "Data_subset.shape"
   ]
  },
  {
   "cell_type": "markdown",
   "metadata": {},
   "source": [
    "*Replacing NAs in binary categorical variables with zeros*"
   ]
  },
  {
   "cell_type": "code",
   "execution_count": 83,
   "metadata": {},
   "outputs": [],
   "source": [
    "Replace_NA = ['Inadequate Clearance-27','Swelling-26','Prolonged Bleeding-25','Follow up after Difficulty-10','Poor Arterial Inflow-28', 'Aneurysmal Degeneration-29', 'Pain-30', 'Inadequate Maturation-31',\n",
    "             'Clotted Access-32', 'Ischemic steal syndrome-33', 'Difficult Cannulation-34', 'Other-35',\n",
    "             'Stenosis-37', 'High Venous Pressure-38','Local-58', 'Moderate Sedation-59', 'Arterial Anastomosis-60',\n",
    "             'Femoral -78', 'Chlorhexadine-89', 'Alcohol-91', 'Iodine-92', 'Arterial-107', 'Venous-110',\n",
    "             'Central Venous-126', 'Brachial Artery-128', 'Radial Artery-130', 'None-131', 'Mid Access-133', 'Venous Anastomosis-135',\n",
    "             'Aneurysm-177', 'Stent edge-186', 'Peri-anastomotic-188', 'radial-195', 'brachial-196', 'Stenosis-202',\n",
    "             'Aneurysm-203', 'Stenosis-274', 'Aneurysm-275', 'Immature-276', 'Stent edge-288', 'Intrastent-290',\n",
    "             'Initial Needle Access (361-318', 'Additional Needle Access (-319', 'Transluminal balloon angio-321',\n",
    "             'Transluminal balloon angio-322', 'Transluminal balloon angio-323', 'Transcatheter placement of-324',\n",
    "             'Angiography, arteriovenous-327', 'Stenosis-336', 'Aneurysm-337', 'Stenosis-364', 'Aneurysm-366',\n",
    "             'Adequate Hemostasis-477', 'Transported to Recovery, S-478', 'Tolerated Well-476', 'Anesthesia-46',\n",
    "             'AV Graft Type-51', 'Prophylactic parenteral an-108', 'Successful Exclusion-293', 'Aneurysm Diameter-358',\n",
    "             'Stent edge-377', 'Intrastent-379', 'Significant Bleeding-479']\n"
   ]
  },
  {
   "cell_type": "code",
   "execution_count": 84,
   "metadata": {},
   "outputs": [],
   "source": [
    "# Defining functions to clean up binary variables with NAs\n",
    "def trans_bin(x):\n",
    "    if x == '1':\n",
    "        return 1\n",
    "    else:\n",
    "        return 0\n",
    "    \n",
    "def change_perf(x):\n",
    "    if x == 'Performed':\n",
    "        return 1\n",
    "    else:\n",
    "        return 0\n",
    "\n",
    "def change_anaest(x):\n",
    "    if x == 'Local':\n",
    "        return 1\n",
    "    else:\n",
    "        return 0\n",
    "\n",
    "def change_Avgraft(x):\n",
    "    if x == 'Loop':\n",
    "        return 1\n",
    "    else:\n",
    "        return 0\n",
    "    \n",
    "def change_Proph(x):\n",
    "    if x == 'Yes':\n",
    "        return 1\n",
    "    else:\n",
    "        return 0\n",
    "        \n",
    "def change_Aneur(x):\n",
    "    if x == '8mm':\n",
    "        return 1\n",
    "    else:\n",
    "        return 0\n"
   ]
  },
  {
   "cell_type": "code",
   "execution_count": 85,
   "metadata": {},
   "outputs": [
    {
     "name": "stderr",
     "output_type": "stream",
     "text": [
      "C:\\Users\\eyita\\Anaconda3\\lib\\site-packages\\ipykernel_launcher.py:1: SettingWithCopyWarning: \n",
      "A value is trying to be set on a copy of a slice from a DataFrame.\n",
      "Try using .loc[row_indexer,col_indexer] = value instead\n",
      "\n",
      "See the caveats in the documentation: http://pandas.pydata.org/pandas-docs/stable/user_guide/indexing.html#returning-a-view-versus-a-copy\n",
      "  \"\"\"Entry point for launching an IPython kernel.\n",
      "C:\\Users\\eyita\\Anaconda3\\lib\\site-packages\\ipykernel_launcher.py:2: SettingWithCopyWarning: \n",
      "A value is trying to be set on a copy of a slice from a DataFrame.\n",
      "Try using .loc[row_indexer,col_indexer] = value instead\n",
      "\n",
      "See the caveats in the documentation: http://pandas.pydata.org/pandas-docs/stable/user_guide/indexing.html#returning-a-view-versus-a-copy\n",
      "  \n",
      "C:\\Users\\eyita\\Anaconda3\\lib\\site-packages\\ipykernel_launcher.py:3: SettingWithCopyWarning: \n",
      "A value is trying to be set on a copy of a slice from a DataFrame.\n",
      "Try using .loc[row_indexer,col_indexer] = value instead\n",
      "\n",
      "See the caveats in the documentation: http://pandas.pydata.org/pandas-docs/stable/user_guide/indexing.html#returning-a-view-versus-a-copy\n",
      "  This is separate from the ipykernel package so we can avoid doing imports until\n",
      "C:\\Users\\eyita\\Anaconda3\\lib\\site-packages\\ipykernel_launcher.py:4: SettingWithCopyWarning: \n",
      "A value is trying to be set on a copy of a slice from a DataFrame.\n",
      "Try using .loc[row_indexer,col_indexer] = value instead\n",
      "\n",
      "See the caveats in the documentation: http://pandas.pydata.org/pandas-docs/stable/user_guide/indexing.html#returning-a-view-versus-a-copy\n",
      "  after removing the cwd from sys.path.\n",
      "C:\\Users\\eyita\\Anaconda3\\lib\\site-packages\\ipykernel_launcher.py:5: SettingWithCopyWarning: \n",
      "A value is trying to be set on a copy of a slice from a DataFrame.\n",
      "Try using .loc[row_indexer,col_indexer] = value instead\n",
      "\n",
      "See the caveats in the documentation: http://pandas.pydata.org/pandas-docs/stable/user_guide/indexing.html#returning-a-view-versus-a-copy\n",
      "  \"\"\"\n",
      "C:\\Users\\eyita\\Anaconda3\\lib\\site-packages\\ipykernel_launcher.py:6: SettingWithCopyWarning: \n",
      "A value is trying to be set on a copy of a slice from a DataFrame.\n",
      "Try using .loc[row_indexer,col_indexer] = value instead\n",
      "\n",
      "See the caveats in the documentation: http://pandas.pydata.org/pandas-docs/stable/user_guide/indexing.html#returning-a-view-versus-a-copy\n",
      "  \n"
     ]
    }
   ],
   "source": [
    "Data_subset['Ultrasound Guidance-88'] = Data_subset['Ultrasound Guidance-88'].apply(change_perf)\n",
    "Data_subset['Anesthesia-46'] = Data_subset['Anesthesia-46'].apply(change_anaest)\n",
    "Data_subset['AV Graft Type-51'] = Data_subset['AV Graft Type-51'].apply(change_Avgraft)\n",
    "Data_subset['Prophylactic parenteral an-108'] = Data_subset['Prophylactic parenteral an-108'].apply(change_Proph)\n",
    "Data_subset['Successful Exclusion-293'] = Data_subset['Successful Exclusion-293'].apply(change_Proph)\n",
    "Data_subset['Aneurysm Diameter-358'] = Data_subset['Aneurysm Diameter-358'].apply(change_Aneur)"
   ]
  },
  {
   "cell_type": "code",
   "execution_count": 86,
   "metadata": {},
   "outputs": [
    {
     "name": "stderr",
     "output_type": "stream",
     "text": [
      "C:\\Users\\eyita\\Anaconda3\\lib\\site-packages\\ipykernel_launcher.py:2: SettingWithCopyWarning: \n",
      "A value is trying to be set on a copy of a slice from a DataFrame.\n",
      "Try using .loc[row_indexer,col_indexer] = value instead\n",
      "\n",
      "See the caveats in the documentation: http://pandas.pydata.org/pandas-docs/stable/user_guide/indexing.html#returning-a-view-versus-a-copy\n",
      "  \n"
     ]
    }
   ],
   "source": [
    "for i in Replace_NA:\n",
    "    Data_subset[i] = Data_subset[i].apply(trans_bin)"
   ]
  },
  {
   "cell_type": "code",
   "execution_count": 89,
   "metadata": {},
   "outputs": [
    {
     "data": {
      "text/plain": [
       "SurgeonID                            object\n",
       "Days Until Next Intervention          int64\n",
       "Days Since last access procedure    float64\n",
       "Site of Service-4                    object\n",
       "patient age in years-7              float64\n",
       "                                     ...   \n",
       "Transported to Recovery, S-478        int64\n",
       "Significant Bleeding-479              int64\n",
       "Post-Intervention Result-491         object\n",
       "Follow up interval-510               object\n",
       "Number Of Coils-512                 float64\n",
       "Length: 143, dtype: object"
      ]
     },
     "execution_count": 89,
     "metadata": {},
     "output_type": "execute_result"
    }
   ],
   "source": [
    "# Eye-balling the data\n",
    "Data_subset.dtypes"
   ]
  },
  {
   "cell_type": "code",
   "execution_count": 90,
   "metadata": {},
   "outputs": [],
   "source": [
    "# Numeric and Binary categorical variables\n",
    "\n",
    "Numeric = ['Days Until Next Intervention', 'Days Since last access procedure', 'patient age in years-7', 'Lidocaine 1% (plain) cc-67',\n",
    "           'Lidocaine 1% (w Epi) cc-69', 'Other Medication Amount (c-76', 'Other Medication Amount (m-86', \n",
    "           'Versed (mg)-80', 'Fentanyl (µg)-81', 'tPA Dose (mg)-105', 'Number Of Coils-512', 'Fluoroscopy Time (min)-470',\n",
    "           'Systemic heparin administe-119']\n",
    "\n",
    "Altered_columns = Numeric + Replace_NA"
   ]
  },
  {
   "cell_type": "code",
   "execution_count": 92,
   "metadata": {},
   "outputs": [],
   "source": [
    "# Getting categorical variables yet to be cleaned\n",
    "Categoricals = []\n",
    "Already_cleaned = []\n",
    "for i in Select_columns:\n",
    "    if i in Altered_columns:\n",
    "        Already_cleaned.append(i)\n",
    "    else:\n",
    "        Categoricals.append(i)"
   ]
  },
  {
   "cell_type": "code",
   "execution_count": 93,
   "metadata": {},
   "outputs": [
    {
     "data": {
      "text/plain": [
       "67"
      ]
     },
     "execution_count": 93,
     "metadata": {},
     "output_type": "execute_result"
    }
   ],
   "source": [
    "len(Categoricals)"
   ]
  },
  {
   "cell_type": "code",
   "execution_count": 94,
   "metadata": {},
   "outputs": [
    {
     "name": "stdout",
     "output_type": "stream",
     "text": [
      "Hello, SurgeonID. You have 16 classes.\n",
      "Hello, Site of Service-4. You have 3 classes.\n",
      "Hello, Status-20. You have 6 classes.\n",
      "Hello, Urgency-21. You have 3 classes.\n",
      "Hello, Patient on Hemodialysis?-22. You have 2 classes.\n",
      "Hello, Type of most recent interv-36. You have 3 classes.\n",
      "Hello, Extremity-41. You have 4 classes.\n",
      "Hello, Informed Consent (risks, b-42. You have 3 classes.\n",
      "Hello, Time Out Performed: Correc-43. You have 2 classes.\n",
      "Hello, Family Member-44. You have 8 classes.\n",
      "Hello, Access Type-48. You have 3 classes.\n",
      "Hello, AV Fistula Type-50. You have 3 classes.\n",
      "Hello, Arterial Limb-52. You have 2 classes.\n",
      "Hello, AV Graft Type-53. You have 4 classes.\n",
      "Hello, Graft Configuration-54. You have 3 classes.\n",
      "Hello, Hero Type-55. You have 2 classes.\n",
      "Hello, Patient was monitored and -64. You have 2 classes.\n",
      "Hello, Interval of Sedation-65. You have 13 classes.\n",
      "Hello, Moderate Sedation Applied -68. You have 2 classes.\n",
      "Hello, Other Medication Name-74. You have 45 classes.\n",
      "Hello, Other Medication Name-85. You have 25 classes.\n",
      "Hello, Position-87. You have 2 classes.\n",
      "Hello, Ultrasound Guidance-88. You have 2 classes.\n",
      "Hello, Pre-operative Antibiotic-93. You have 5 classes.\n",
      "Hello, Thrombolysis-94. You have 2 classes.\n",
      "Hello, Thrombolysis Method-96. You have 4 classes.\n",
      "Hello, Micropuncture-114. You have 2 classes.\n",
      "Hello, Wire-116. You have 3 classes.\n",
      "Hello, Sheath-117. You have 6 classes.\n",
      "Hello, Balloon Size (mm)-180. You have 7 classes.\n",
      "Hello, Stenosis Treatment-181. You have 2 classes.\n",
      "Hello, Type-182. You have 16 classes.\n",
      "Hello, % Residual Stenosis-191. You have 4 classes.\n",
      "Hello, Treatment Summary Text-197. You have 9 classes.\n",
      "Hello, Summary Text-198. You have 14 classes.\n",
      "Hello, Balloon Duration-199. You have 3 classes.\n",
      "Hello, % Stenosis-204. You have 11 classes.\n",
      "Hello, Extent of Stenosis-205. You have 2 classes.\n",
      "Hello, Aneurysm Type-209. You have 2 classes.\n",
      "Hello, Aneurysm Diameter-270. You have 10 classes.\n",
      "Hello, Aneurysm Treatment-271. You have 2 classes.\n",
      "Hello, Balloon Size (mm)-273. You have 9 classes.\n",
      "Hello, Stenosis Treatment-278. You have 3 classes.\n",
      "Hello, Type-279. You have 41 classes.\n",
      "Hello, Stent Size-284. You have 8 classes.\n",
      "Hello, Stent Type-285. You have 17 classes.\n",
      "Hello, Post-Stent Dilation-287. You have 8 classes.\n",
      "Hello, Stent Length-289. You have 5 classes.\n",
      "Hello, % Residual Stenosis-292. You have 5 classes.\n",
      "Hello, Treatment Summary Text-315. You have 20 classes.\n",
      "Hello, Summary Text-316. You have 179 classes.\n",
      "Hello, Balloon Duration-334. You have 4 classes.\n",
      "Hello, Aneurysm Summary Text-335. You have 10 classes.\n",
      "Hello, Balloon Size (mm)-363. You have 8 classes.\n",
      "Hello, Stenosis Treatment-365. You have 3 classes.\n",
      "Hello, Type-369. You have 11 classes.\n",
      "Hello, ATM-370. You have 14 classes.\n",
      "Hello, Stent Size-371. You have 6 classes.\n",
      "Hello, Stent Type-374. You have 4 classes.\n",
      "Hello, Post-Stent Dilation-375. You have 7 classes.\n",
      "Hello, % Residual Stenosis-376. You have 5 classes.\n",
      "Hello, Stent Length-378. You have 4 classes.\n",
      "Hello, Embolization-451. You have 5 classes.\n",
      "Hello, Embolization Type-452. You have 4 classes.\n",
      "Hello, Was artery cannulated subs-471. You have 2 classes.\n",
      "Hello, Post-Intervention Result-491. You have 6 classes.\n",
      "Hello, Follow up interval-510. You have 14 classes.\n"
     ]
    }
   ],
   "source": [
    "# Checking to see all categorical variables have more than one class\n",
    "for i in Categoricals:\n",
    "    variable = i\n",
    "    print(f\"Hello, {variable}. You have {Data_subset[i].nunique()} classes.\")\n",
    "    "
   ]
  },
  {
   "cell_type": "code",
   "execution_count": 95,
   "metadata": {},
   "outputs": [
    {
     "name": "stdout",
     "output_type": "stream",
     "text": [
      "<class 'pandas.core.frame.DataFrame'>\n",
      "RangeIndex: 2410 entries, 0 to 2409\n",
      "Columns: 143 entries, SurgeonID to Number Of Coils-512\n",
      "dtypes: float64(12), int64(65), object(66)\n",
      "memory usage: 2.6+ MB\n"
     ]
    }
   ],
   "source": [
    "Data_subset.info()"
   ]
  },
  {
   "cell_type": "code",
   "execution_count": 96,
   "metadata": {},
   "outputs": [],
   "source": [
    "# Now we filter the data to remove zeros from the response variable due to log transformation\n",
    "\n",
    "Data_analyzed = Data_subset[Data_subset['Days Until Next Intervention'] > 0]"
   ]
  },
  {
   "cell_type": "code",
   "execution_count": 97,
   "metadata": {},
   "outputs": [
    {
     "name": "stdout",
     "output_type": "stream",
     "text": [
      "<class 'pandas.core.frame.DataFrame'>\n",
      "Int64Index: 2397 entries, 0 to 2396\n",
      "Columns: 143 entries, SurgeonID to Number Of Coils-512\n",
      "dtypes: float64(12), int64(65), object(66)\n",
      "memory usage: 2.6+ MB\n"
     ]
    }
   ],
   "source": [
    "# checking to see details of the new dataframe\n",
    "Data_analyzed.info()"
   ]
  },
  {
   "cell_type": "markdown",
   "metadata": {},
   "source": [
    "*Summary statistics for the response variable*"
   ]
  },
  {
   "cell_type": "code",
   "execution_count": 98,
   "metadata": {},
   "outputs": [
    {
     "data": {
      "text/plain": [
       "count    2397.000000\n",
       "mean      180.020859\n",
       "std       184.213882\n",
       "min         1.000000\n",
       "25%        57.000000\n",
       "50%       119.000000\n",
       "75%       242.000000\n",
       "max      1626.000000\n",
       "Name: Days Until Next Intervention, dtype: float64"
      ]
     },
     "execution_count": 98,
     "metadata": {},
     "output_type": "execute_result"
    }
   ],
   "source": [
    "Data_analyzed['Days Until Next Intervention'].describe()"
   ]
  },
  {
   "cell_type": "markdown",
   "metadata": {},
   "source": [
    "*Data Exploration*"
   ]
  },
  {
   "cell_type": "code",
   "execution_count": 99,
   "metadata": {},
   "outputs": [],
   "source": [
    "# Importing libraries\n",
    "import seaborn as sns\n",
    "import matplotlib.pyplot as plt\n",
    "%matplotlib inline"
   ]
  },
  {
   "cell_type": "code",
   "execution_count": 100,
   "metadata": {},
   "outputs": [
    {
     "data": {
      "image/png": "[encoded data removed]",
      "text/plain": [
       "<Figure size 432x288 with 1 Axes>"
      ]
     },
     "metadata": {
      "needs_background": "light"
     },
     "output_type": "display_data"
    }
   ],
   "source": [
    "# Histogram of the initial response variable\n",
    "g = Data_analyzed['Days Until Next Intervention'].hist()\n",
    "g.set_xlabel('Interval between DAI (days)',fontsize=20);\n",
    "g.set_ylabel('Frequency',fontsize=20);\n",
    "g.grid(False)\n",
    "\n",
    "plt.show()"
   ]
  },
  {
   "cell_type": "code",
   "execution_count": 101,
   "metadata": {},
   "outputs": [
    {
     "name": "stderr",
     "output_type": "stream",
     "text": [
      "C:\\Users\\eyita\\Anaconda3\\lib\\site-packages\\ipykernel_launcher.py:3: SettingWithCopyWarning: \n",
      "A value is trying to be set on a copy of a slice from a DataFrame.\n",
      "Try using .loc[row_indexer,col_indexer] = value instead\n",
      "\n",
      "See the caveats in the documentation: http://pandas.pydata.org/pandas-docs/stable/user_guide/indexing.html#returning-a-view-versus-a-copy\n",
      "  This is separate from the ipykernel package so we can avoid doing imports until\n"
     ]
    }
   ],
   "source": [
    "# Log transformation of the response variable\n",
    "\n",
    "Data_analyzed['Log_DAI'] = np.log(Data_analyzed['Days Until Next Intervention'])"
   ]
  },
  {
   "cell_type": "code",
   "execution_count": 102,
   "metadata": {},
   "outputs": [
    {
     "data": {
      "image/png": "[encoded data removed]",
      "text/plain": [
       "<Figure size 432x288 with 1 Axes>"
      ]
     },
     "metadata": {
      "needs_background": "light"
     },
     "output_type": "display_data"
    }
   ],
   "source": [
    "# Histogram of the log transformed response variable\n",
    "g2 = Data_analyzed['Log_DAI'].hist()\n",
    "g2.set_xlabel('Log Interval between DAI (days)',fontsize=20);\n",
    "g2.set_ylabel('Frequency',fontsize=20);\n",
    "g2.grid(False)\n",
    "\n",
    "plt.show()"
   ]
  },
  {
   "cell_type": "code",
   "execution_count": 103,
   "metadata": {},
   "outputs": [
    {
     "data": {
      "image/png": "[encoded data removed]",
      "text/plain": [
       "<Figure size 432x288 with 1 Axes>"
      ]
     },
     "metadata": {
      "needs_background": "light"
     },
     "output_type": "display_data"
    }
   ],
   "source": [
    "# Exploring differences in interval between DAI based off whether a procedure to fix blood clot was performed\n",
    "h = sns.boxplot(x=\"Thrombolysis-94\", y=\"Days Until Next Intervention\", data=Data_analyzed,palette='rainbow')\n",
    "\n",
    "h.set_xlabel('Thrombolysis',fontsize=14);\n",
    "h.set_ylabel('Interval between DAI (days)',fontsize=14);\n",
    "h.grid(False)\n",
    "\n",
    "plt.show()"
   ]
  },
  {
   "cell_type": "code",
   "execution_count": 104,
   "metadata": {},
   "outputs": [
    {
     "data": {
      "image/png": "[encoded data removed]",
      "text/plain": [
       "<Figure size 432x288 with 1 Axes>"
      ]
     },
     "metadata": {
      "needs_background": "light"
     },
     "output_type": "display_data"
    }
   ],
   "source": [
    "# Exploring differences in interval between DAI based on urgency of the initial procedure\n",
    "k = sns.boxplot(x=\"Urgency-21\", y=\"Days Until Next Intervention\", data=Data_analyzed,palette='rainbow')\n",
    "k.set_xlabel('Urgency level',fontsize=14);\n",
    "k.set_ylabel('Interval between DAI (days)',fontsize=14);\n",
    "k.grid(False)\n",
    "\n",
    "plt.show()"
   ]
  },
  {
   "cell_type": "markdown",
   "metadata": {},
   "source": [
    "*Other plots*"
   ]
  },
  {
   "cell_type": "code",
   "execution_count": 105,
   "metadata": {},
   "outputs": [
    {
     "data": {
      "text/plain": [
       "[Text(0, 0.5, 'Interval between dialysis access procedures (days)'),\n",
       " Text(0.5, 0, 'Site of Service')]"
      ]
     },
     "execution_count": 105,
     "metadata": {},
     "output_type": "execute_result"
    },
    {
     "data": {
      "image/png": "[encoded data removed]",
      "text/plain": [
       "<Figure size 432x288 with 1 Axes>"
      ]
     },
     "metadata": {
      "needs_background": "light"
     },
     "output_type": "display_data"
    }
   ],
   "source": [
    "k = sns.boxplot(x=\"Site of Service-4\", y=\"Days Until Next Intervention\", data=Data_analyzed,palette='rainbow')\n",
    "k.set(xlabel='Site of Service', ylabel='Interval between dialysis access procedures (days)')"
   ]
  },
  {
   "cell_type": "code",
   "execution_count": 106,
   "metadata": {},
   "outputs": [
    {
     "data": {
      "text/plain": [
       "AV Fistula    1710\n",
       "AV Graft       595\n",
       "Hero            36\n",
       "Name: Access Type-48, dtype: int64"
      ]
     },
     "execution_count": 106,
     "metadata": {},
     "output_type": "execute_result"
    }
   ],
   "source": [
    "Data_analyzed['Access Type-48'].value_counts()"
   ]
  },
  {
   "cell_type": "code",
   "execution_count": 107,
   "metadata": {},
   "outputs": [
    {
     "data": {
      "text/plain": [
       "<matplotlib.axes._subplots.AxesSubplot at 0x11d90461488>"
      ]
     },
     "execution_count": 107,
     "metadata": {},
     "output_type": "execute_result"
    },
    {
     "data": {
      "image/png": "[encoded data removed]",
      "text/plain": [
       "<Figure size 432x288 with 1 Axes>"
      ]
     },
     "metadata": {
      "needs_background": "light"
     },
     "output_type": "display_data"
    }
   ],
   "source": [
    "sns.barplot(x=\"Urgency-21\", y=\"Days Until Next Intervention\", data=Data_analyzed,estimator=np.nanstd)\n"
   ]
  },
  {
   "cell_type": "code",
   "execution_count": 108,
   "metadata": {},
   "outputs": [
    {
     "data": {
      "text/plain": [
       "<matplotlib.axes._subplots.AxesSubplot at 0x11d8fde3848>"
      ]
     },
     "execution_count": 108,
     "metadata": {},
     "output_type": "execute_result"
    },
    {
     "data": {
      "image/png": "[encoded data removed]",
      "text/plain": [
       "<Figure size 432x288 with 1 Axes>"
      ]
     },
     "metadata": {
      "needs_background": "light"
     },
     "output_type": "display_data"
    }
   ],
   "source": [
    "sns.barplot(x=\"Patient on Hemodialysis?-22\", y=\"Days Until Next Intervention\", data=Data_analyzed,estimator=np.nanstd)"
   ]
  },
  {
   "cell_type": "code",
   "execution_count": 109,
   "metadata": {},
   "outputs": [
    {
     "data": {
      "text/plain": [
       "<matplotlib.axes._subplots.AxesSubplot at 0x11d8ffec788>"
      ]
     },
     "execution_count": 109,
     "metadata": {},
     "output_type": "execute_result"
    },
    {
     "data": {
      "image/png": "[encoded data removed]",
      "text/plain": [
       "<Figure size 432x288 with 1 Axes>"
      ]
     },
     "metadata": {
      "needs_background": "light"
     },
     "output_type": "display_data"
    }
   ],
   "source": [
    "sns.barplot(x=\"Extremity-41\", y=\"Days Until Next Intervention\", data=Data_analyzed,estimator=np.nanstd)"
   ]
  },
  {
   "cell_type": "code",
   "execution_count": 110,
   "metadata": {},
   "outputs": [
    {
     "data": {
      "text/plain": [
       "<matplotlib.axes._subplots.AxesSubplot at 0x11d8b390188>"
      ]
     },
     "execution_count": 110,
     "metadata": {},
     "output_type": "execute_result"
    },
    {
     "data": {
      "image/png": "[encoded data removed]",
      "text/plain": [
       "<Figure size 432x288 with 1 Axes>"
      ]
     },
     "metadata": {
      "needs_background": "light"
     },
     "output_type": "display_data"
    }
   ],
   "source": [
    "sns.barplot(x=\"Access Type-48\", y=\"Days Until Next Intervention\", data=Data_analyzed,estimator=np.nanstd)"
   ]
  },
  {
   "cell_type": "code",
   "execution_count": 111,
   "metadata": {},
   "outputs": [
    {
     "data": {
      "text/plain": [
       "<matplotlib.axes._subplots.AxesSubplot at 0x11d8d959648>"
      ]
     },
     "execution_count": 111,
     "metadata": {},
     "output_type": "execute_result"
    },
    {
     "data": {
      "image/png": "[encoded data removed]",
      "text/plain": [
       "<Figure size 432x288 with 1 Axes>"
      ]
     },
     "metadata": {
      "needs_background": "light"
     },
     "output_type": "display_data"
    }
   ],
   "source": [
    "sns.barplot(x=\"AV Fistula Type-50\", y=\"Days Until Next Intervention\", data=Data_analyzed,estimator=np.nanstd)"
   ]
  },
  {
   "cell_type": "code",
   "execution_count": 112,
   "metadata": {},
   "outputs": [
    {
     "data": {
      "text/plain": [
       "<matplotlib.axes._subplots.AxesSubplot at 0x11d8d9023c8>"
      ]
     },
     "execution_count": 112,
     "metadata": {},
     "output_type": "execute_result"
    },
    {
     "data": {
      "image/png": "[encoded data removed]",
      "text/plain": [
       "<Figure size 432x288 with 1 Axes>"
      ]
     },
     "metadata": {
      "needs_background": "light"
     },
     "output_type": "display_data"
    }
   ],
   "source": [
    "sns.barplot(x=\"AV Graft Type-53\", y=\"Days Until Next Intervention\", data=Data_analyzed,estimator=np.nanstd)"
   ]
  },
  {
   "cell_type": "code",
   "execution_count": 113,
   "metadata": {},
   "outputs": [
    {
     "data": {
      "text/plain": [
       "<matplotlib.axes._subplots.AxesSubplot at 0x11d8d08fd08>"
      ]
     },
     "execution_count": 113,
     "metadata": {},
     "output_type": "execute_result"
    },
    {
     "data": {
      "image/png": "[encoded data removed]",
      "text/plain": [
       "<Figure size 432x288 with 1 Axes>"
      ]
     },
     "metadata": {
      "needs_background": "light"
     },
     "output_type": "display_data"
    }
   ],
   "source": [
    "sns.barplot(x=\"Graft Configuration-54\", y=\"Days Until Next Intervention\", data=Data_analyzed,estimator=np.nanstd)"
   ]
  },
  {
   "cell_type": "code",
   "execution_count": 114,
   "metadata": {},
   "outputs": [
    {
     "data": {
      "text/plain": [
       "<matplotlib.axes._subplots.AxesSubplot at 0x11d926e2588>"
      ]
     },
     "execution_count": 114,
     "metadata": {},
     "output_type": "execute_result"
    },
    {
     "data": {
      "image/png": "[encoded data removed]",
      "text/plain": [
       "<Figure size 432x288 with 1 Axes>"
      ]
     },
     "metadata": {
      "needs_background": "light"
     },
     "output_type": "display_data"
    }
   ],
   "source": [
    "sns.barplot(x=\"Balloon Size (mm)-363\", y=\"Days Until Next Intervention\", data=Data_analyzed,estimator=np.nanstd)"
   ]
  },
  {
   "cell_type": "code",
   "execution_count": 115,
   "metadata": {},
   "outputs": [
    {
     "data": {
      "text/plain": [
       "<matplotlib.axes._subplots.AxesSubplot at 0x11d8703d388>"
      ]
     },
     "execution_count": 115,
     "metadata": {},
     "output_type": "execute_result"
    },
    {
     "data": {
      "image/png": "[encoded data removed]",
      "text/plain": [
       "<Figure size 432x288 with 1 Axes>"
      ]
     },
     "metadata": {
      "needs_background": "light"
     },
     "output_type": "display_data"
    }
   ],
   "source": [
    "sns.barplot(x=\"Embolization-451\", y=\"Days Until Next Intervention\", data=Data_analyzed,estimator=np.nanstd)"
   ]
  },
  {
   "cell_type": "code",
   "execution_count": 116,
   "metadata": {},
   "outputs": [
    {
     "data": {
      "text/plain": [
       "<matplotlib.axes._subplots.AxesSubplot at 0x11d87437848>"
      ]
     },
     "execution_count": 116,
     "metadata": {},
     "output_type": "execute_result"
    },
    {
     "data": {
      "image/png": "[encoded data removed]",
      "text/plain": [
       "<Figure size 432x288 with 1 Axes>"
      ]
     },
     "metadata": {
      "needs_background": "light"
     },
     "output_type": "display_data"
    }
   ],
   "source": [
    "sns.barplot(x=\"Embolization Type-452\", y=\"Days Until Next Intervention\", data=Data_analyzed,estimator=np.nanstd)"
   ]
  },
  {
   "cell_type": "code",
   "execution_count": 117,
   "metadata": {},
   "outputs": [
    {
     "data": {
      "text/plain": [
       "<matplotlib.axes._subplots.AxesSubplot at 0x11d874aa448>"
      ]
     },
     "execution_count": 117,
     "metadata": {},
     "output_type": "execute_result"
    },
    {
     "data": {
      "image/png": "[encoded data removed]",
      "text/plain": [
       "<Figure size 432x288 with 1 Axes>"
      ]
     },
     "metadata": {
      "needs_background": "light"
     },
     "output_type": "display_data"
    }
   ],
   "source": [
    "sns.barplot(x=\"Post-Intervention Result-491\", y=\"Days Until Next Intervention\", data=Data_analyzed,estimator=np.nanstd)"
   ]
  },
  {
   "cell_type": "code",
   "execution_count": 118,
   "metadata": {},
   "outputs": [
    {
     "data": {
      "text/plain": [
       "<matplotlib.axes._subplots.AxesSubplot at 0x11d875102c8>"
      ]
     },
     "execution_count": 118,
     "metadata": {},
     "output_type": "execute_result"
    },
    {
     "data": {
      "image/png": "[encoded data removed]",
      "text/plain": [
       "<Figure size 432x288 with 1 Axes>"
      ]
     },
     "metadata": {
      "needs_background": "light"
     },
     "output_type": "display_data"
    }
   ],
   "source": [
    "sns.barplot(x=\"Treatment Summary Text-315\", y=\"Days Until Next Intervention\", data=Data_analyzed,estimator=np.nanstd)"
   ]
  },
  {
   "cell_type": "code",
   "execution_count": 119,
   "metadata": {},
   "outputs": [
    {
     "data": {
      "text/plain": [
       "<matplotlib.axes._subplots.AxesSubplot at 0x11d87a899c8>"
      ]
     },
     "execution_count": 119,
     "metadata": {},
     "output_type": "execute_result"
    },
    {
     "data": {
      "image/png": "[encoded data removed]",
      "text/plain": [
       "<Figure size 432x288 with 1 Axes>"
      ]
     },
     "metadata": {
      "needs_background": "light"
     },
     "output_type": "display_data"
    }
   ],
   "source": [
    "sns.barplot(x=\"Wire-116\", y=\"Days Until Next Intervention\", data=Data_analyzed,estimator=np.nanstd)"
   ]
  },
  {
   "cell_type": "code",
   "execution_count": 123,
   "metadata": {},
   "outputs": [],
   "source": [
    "# Replacing NAs in categorical variables with None\n",
    "\n",
    "for i in Categoricals:\n",
    "   Data_analyzed[i].fillna('None', inplace = True)\n",
    "\n"
   ]
  },
  {
   "cell_type": "code",
   "execution_count": 124,
   "metadata": {},
   "outputs": [],
   "source": [
    "Categoricals_df = Data_analyzed[Categoricals]"
   ]
  },
  {
   "cell_type": "markdown",
   "metadata": {},
   "source": [
    "*Dealing with categorical variables using one hot encoding*"
   ]
  },
  {
   "cell_type": "code",
   "execution_count": 125,
   "metadata": {},
   "outputs": [],
   "source": [
    "# Transforming the categorical variables\n",
    "from sklearn.preprocessing import OneHotEncoder\n",
    "\n",
    "# Apply one-hot encoder to each column with categorical data\n",
    "OH_encoder = OneHotEncoder(handle_unknown='ignore', sparse=False)\n",
    "Final_df = pd.DataFrame(OH_encoder.fit_transform(Data_analyzed[Categoricals]))"
   ]
  },
  {
   "cell_type": "code",
   "execution_count": 126,
   "metadata": {},
   "outputs": [],
   "source": [
    "# One-hot encoding removed index; put it back\n",
    "\n",
    "Final_df.index = Data_analyzed.index\n",
    "\n",
    "# Remove categorical columns (will replace with one-hot encoding)\n",
    "\n",
    "num_X = Data_analyzed.drop(Categoricals, axis=1)\n",
    "\n",
    "# Add one-hot encoded columns to numerical features\n",
    "\n",
    "Final_df = pd.concat([num_X, Final_df], axis=1)"
   ]
  },
  {
   "cell_type": "code",
   "execution_count": 127,
   "metadata": {},
   "outputs": [
    {
     "data": {
      "text/html": [
       "<div>\n",
       "<style scoped>\n",
       "    .dataframe tbody tr th:only-of-type {\n",
       "        vertical-align: middle;\n",
       "    }\n",
       "\n",
       "    .dataframe tbody tr th {\n",
       "        vertical-align: top;\n",
       "    }\n",
       "\n",
       "    .dataframe thead th {\n",
       "        text-align: right;\n",
       "    }\n",
       "</style>\n",
       "<table border=\"1\" class=\"dataframe\">\n",
       "  <thead>\n",
       "    <tr style=\"text-align: right;\">\n",
       "      <th></th>\n",
       "      <th>Days Until Next Intervention</th>\n",
       "      <th>Days Since last access procedure</th>\n",
       "      <th>patient age in years-7</th>\n",
       "      <th>Follow up after Difficulty-10</th>\n",
       "      <th>Prolonged Bleeding-25</th>\n",
       "      <th>Swelling-26</th>\n",
       "      <th>Inadequate Clearance-27</th>\n",
       "      <th>Poor Arterial Inflow-28</th>\n",
       "      <th>Aneurysmal Degeneration-29</th>\n",
       "      <th>Pain-30</th>\n",
       "      <th>...</th>\n",
       "      <th>712</th>\n",
       "      <th>713</th>\n",
       "      <th>714</th>\n",
       "      <th>715</th>\n",
       "      <th>716</th>\n",
       "      <th>717</th>\n",
       "      <th>718</th>\n",
       "      <th>719</th>\n",
       "      <th>720</th>\n",
       "      <th>721</th>\n",
       "    </tr>\n",
       "  </thead>\n",
       "  <tbody>\n",
       "    <tr>\n",
       "      <td>0</td>\n",
       "      <td>1626</td>\n",
       "      <td>NaN</td>\n",
       "      <td>NaN</td>\n",
       "      <td>0</td>\n",
       "      <td>0</td>\n",
       "      <td>0</td>\n",
       "      <td>1</td>\n",
       "      <td>0</td>\n",
       "      <td>0</td>\n",
       "      <td>0</td>\n",
       "      <td>...</td>\n",
       "      <td>0.0</td>\n",
       "      <td>0.0</td>\n",
       "      <td>0.0</td>\n",
       "      <td>0.0</td>\n",
       "      <td>0.0</td>\n",
       "      <td>0.0</td>\n",
       "      <td>1.0</td>\n",
       "      <td>0.0</td>\n",
       "      <td>0.0</td>\n",
       "      <td>0.0</td>\n",
       "    </tr>\n",
       "    <tr>\n",
       "      <td>1</td>\n",
       "      <td>1543</td>\n",
       "      <td>NaN</td>\n",
       "      <td>NaN</td>\n",
       "      <td>0</td>\n",
       "      <td>1</td>\n",
       "      <td>0</td>\n",
       "      <td>0</td>\n",
       "      <td>0</td>\n",
       "      <td>0</td>\n",
       "      <td>0</td>\n",
       "      <td>...</td>\n",
       "      <td>0.0</td>\n",
       "      <td>0.0</td>\n",
       "      <td>0.0</td>\n",
       "      <td>0.0</td>\n",
       "      <td>0.0</td>\n",
       "      <td>0.0</td>\n",
       "      <td>1.0</td>\n",
       "      <td>0.0</td>\n",
       "      <td>0.0</td>\n",
       "      <td>0.0</td>\n",
       "    </tr>\n",
       "    <tr>\n",
       "      <td>2</td>\n",
       "      <td>1520</td>\n",
       "      <td>NaN</td>\n",
       "      <td>NaN</td>\n",
       "      <td>0</td>\n",
       "      <td>1</td>\n",
       "      <td>0</td>\n",
       "      <td>0</td>\n",
       "      <td>0</td>\n",
       "      <td>0</td>\n",
       "      <td>0</td>\n",
       "      <td>...</td>\n",
       "      <td>0.0</td>\n",
       "      <td>0.0</td>\n",
       "      <td>0.0</td>\n",
       "      <td>0.0</td>\n",
       "      <td>0.0</td>\n",
       "      <td>0.0</td>\n",
       "      <td>0.0</td>\n",
       "      <td>0.0</td>\n",
       "      <td>0.0</td>\n",
       "      <td>0.0</td>\n",
       "    </tr>\n",
       "    <tr>\n",
       "      <td>3</td>\n",
       "      <td>1125</td>\n",
       "      <td>NaN</td>\n",
       "      <td>NaN</td>\n",
       "      <td>0</td>\n",
       "      <td>1</td>\n",
       "      <td>0</td>\n",
       "      <td>0</td>\n",
       "      <td>0</td>\n",
       "      <td>0</td>\n",
       "      <td>0</td>\n",
       "      <td>...</td>\n",
       "      <td>0.0</td>\n",
       "      <td>0.0</td>\n",
       "      <td>0.0</td>\n",
       "      <td>0.0</td>\n",
       "      <td>0.0</td>\n",
       "      <td>0.0</td>\n",
       "      <td>1.0</td>\n",
       "      <td>0.0</td>\n",
       "      <td>0.0</td>\n",
       "      <td>0.0</td>\n",
       "    </tr>\n",
       "    <tr>\n",
       "      <td>4</td>\n",
       "      <td>1121</td>\n",
       "      <td>NaN</td>\n",
       "      <td>NaN</td>\n",
       "      <td>0</td>\n",
       "      <td>0</td>\n",
       "      <td>0</td>\n",
       "      <td>0</td>\n",
       "      <td>0</td>\n",
       "      <td>0</td>\n",
       "      <td>0</td>\n",
       "      <td>...</td>\n",
       "      <td>0.0</td>\n",
       "      <td>0.0</td>\n",
       "      <td>0.0</td>\n",
       "      <td>0.0</td>\n",
       "      <td>0.0</td>\n",
       "      <td>0.0</td>\n",
       "      <td>1.0</td>\n",
       "      <td>0.0</td>\n",
       "      <td>0.0</td>\n",
       "      <td>0.0</td>\n",
       "    </tr>\n",
       "  </tbody>\n",
       "</table>\n",
       "<p>5 rows × 799 columns</p>\n",
       "</div>"
      ],
      "text/plain": [
       "   Days Until Next Intervention  Days Since last access procedure  \\\n",
       "0                          1626                               NaN   \n",
       "1                          1543                               NaN   \n",
       "2                          1520                               NaN   \n",
       "3                          1125                               NaN   \n",
       "4                          1121                               NaN   \n",
       "\n",
       "   patient age in years-7  Follow up after Difficulty-10  \\\n",
       "0                     NaN                              0   \n",
       "1                     NaN                              0   \n",
       "2                     NaN                              0   \n",
       "3                     NaN                              0   \n",
       "4                     NaN                              0   \n",
       "\n",
       "   Prolonged Bleeding-25  Swelling-26  Inadequate Clearance-27  \\\n",
       "0                      0            0                        1   \n",
       "1                      1            0                        0   \n",
       "2                      1            0                        0   \n",
       "3                      1            0                        0   \n",
       "4                      0            0                        0   \n",
       "\n",
       "   Poor Arterial Inflow-28  Aneurysmal Degeneration-29  Pain-30  ...  712  \\\n",
       "0                        0                           0        0  ...  0.0   \n",
       "1                        0                           0        0  ...  0.0   \n",
       "2                        0                           0        0  ...  0.0   \n",
       "3                        0                           0        0  ...  0.0   \n",
       "4                        0                           0        0  ...  0.0   \n",
       "\n",
       "   713  714  715  716  717  718  719  720  721  \n",
       "0  0.0  0.0  0.0  0.0  0.0  1.0  0.0  0.0  0.0  \n",
       "1  0.0  0.0  0.0  0.0  0.0  1.0  0.0  0.0  0.0  \n",
       "2  0.0  0.0  0.0  0.0  0.0  0.0  0.0  0.0  0.0  \n",
       "3  0.0  0.0  0.0  0.0  0.0  1.0  0.0  0.0  0.0  \n",
       "4  0.0  0.0  0.0  0.0  0.0  1.0  0.0  0.0  0.0  \n",
       "\n",
       "[5 rows x 799 columns]"
      ]
     },
     "execution_count": 127,
     "metadata": {},
     "output_type": "execute_result"
    }
   ],
   "source": [
    "Final_df.head()"
   ]
  },
  {
   "cell_type": "markdown",
   "metadata": {},
   "source": [
    "*Dealing with missing values in numeric variables using simple imputer*"
   ]
  },
  {
   "cell_type": "code",
   "execution_count": 129,
   "metadata": {},
   "outputs": [],
   "source": [
    "# Importing libraries needed\n",
    "from sklearn.impute import SimpleImputer\n",
    "\n",
    "# Imputation\n",
    "my_imputer = SimpleImputer()\n",
    "Final_df2 = pd.DataFrame(my_imputer.fit_transform(Final_df))\n",
    "\n",
    "\n",
    "# Imputation removed column names; put them back\n",
    "Final_df2.columns = Final_df.columns"
   ]
  },
  {
   "cell_type": "code",
   "execution_count": 130,
   "metadata": {},
   "outputs": [
    {
     "data": {
      "text/html": [
       "<div>\n",
       "<style scoped>\n",
       "    .dataframe tbody tr th:only-of-type {\n",
       "        vertical-align: middle;\n",
       "    }\n",
       "\n",
       "    .dataframe tbody tr th {\n",
       "        vertical-align: top;\n",
       "    }\n",
       "\n",
       "    .dataframe thead th {\n",
       "        text-align: right;\n",
       "    }\n",
       "</style>\n",
       "<table border=\"1\" class=\"dataframe\">\n",
       "  <thead>\n",
       "    <tr style=\"text-align: right;\">\n",
       "      <th></th>\n",
       "      <th>Days Until Next Intervention</th>\n",
       "      <th>Days Since last access procedure</th>\n",
       "      <th>patient age in years-7</th>\n",
       "      <th>Follow up after Difficulty-10</th>\n",
       "      <th>Prolonged Bleeding-25</th>\n",
       "      <th>Swelling-26</th>\n",
       "      <th>Inadequate Clearance-27</th>\n",
       "      <th>Poor Arterial Inflow-28</th>\n",
       "      <th>Aneurysmal Degeneration-29</th>\n",
       "      <th>Pain-30</th>\n",
       "      <th>...</th>\n",
       "      <th>712</th>\n",
       "      <th>713</th>\n",
       "      <th>714</th>\n",
       "      <th>715</th>\n",
       "      <th>716</th>\n",
       "      <th>717</th>\n",
       "      <th>718</th>\n",
       "      <th>719</th>\n",
       "      <th>720</th>\n",
       "      <th>721</th>\n",
       "    </tr>\n",
       "  </thead>\n",
       "  <tbody>\n",
       "    <tr>\n",
       "      <td>0</td>\n",
       "      <td>1626.0</td>\n",
       "      <td>108.420213</td>\n",
       "      <td>63.538605</td>\n",
       "      <td>0.0</td>\n",
       "      <td>0.0</td>\n",
       "      <td>0.0</td>\n",
       "      <td>1.0</td>\n",
       "      <td>0.0</td>\n",
       "      <td>0.0</td>\n",
       "      <td>0.0</td>\n",
       "      <td>...</td>\n",
       "      <td>0.0</td>\n",
       "      <td>0.0</td>\n",
       "      <td>0.0</td>\n",
       "      <td>0.0</td>\n",
       "      <td>0.0</td>\n",
       "      <td>0.0</td>\n",
       "      <td>1.0</td>\n",
       "      <td>0.0</td>\n",
       "      <td>0.0</td>\n",
       "      <td>0.0</td>\n",
       "    </tr>\n",
       "    <tr>\n",
       "      <td>1</td>\n",
       "      <td>1543.0</td>\n",
       "      <td>108.420213</td>\n",
       "      <td>63.538605</td>\n",
       "      <td>0.0</td>\n",
       "      <td>1.0</td>\n",
       "      <td>0.0</td>\n",
       "      <td>0.0</td>\n",
       "      <td>0.0</td>\n",
       "      <td>0.0</td>\n",
       "      <td>0.0</td>\n",
       "      <td>...</td>\n",
       "      <td>0.0</td>\n",
       "      <td>0.0</td>\n",
       "      <td>0.0</td>\n",
       "      <td>0.0</td>\n",
       "      <td>0.0</td>\n",
       "      <td>0.0</td>\n",
       "      <td>1.0</td>\n",
       "      <td>0.0</td>\n",
       "      <td>0.0</td>\n",
       "      <td>0.0</td>\n",
       "    </tr>\n",
       "    <tr>\n",
       "      <td>2</td>\n",
       "      <td>1520.0</td>\n",
       "      <td>108.420213</td>\n",
       "      <td>63.538605</td>\n",
       "      <td>0.0</td>\n",
       "      <td>1.0</td>\n",
       "      <td>0.0</td>\n",
       "      <td>0.0</td>\n",
       "      <td>0.0</td>\n",
       "      <td>0.0</td>\n",
       "      <td>0.0</td>\n",
       "      <td>...</td>\n",
       "      <td>0.0</td>\n",
       "      <td>0.0</td>\n",
       "      <td>0.0</td>\n",
       "      <td>0.0</td>\n",
       "      <td>0.0</td>\n",
       "      <td>0.0</td>\n",
       "      <td>0.0</td>\n",
       "      <td>0.0</td>\n",
       "      <td>0.0</td>\n",
       "      <td>0.0</td>\n",
       "    </tr>\n",
       "    <tr>\n",
       "      <td>3</td>\n",
       "      <td>1125.0</td>\n",
       "      <td>108.420213</td>\n",
       "      <td>63.538605</td>\n",
       "      <td>0.0</td>\n",
       "      <td>1.0</td>\n",
       "      <td>0.0</td>\n",
       "      <td>0.0</td>\n",
       "      <td>0.0</td>\n",
       "      <td>0.0</td>\n",
       "      <td>0.0</td>\n",
       "      <td>...</td>\n",
       "      <td>0.0</td>\n",
       "      <td>0.0</td>\n",
       "      <td>0.0</td>\n",
       "      <td>0.0</td>\n",
       "      <td>0.0</td>\n",
       "      <td>0.0</td>\n",
       "      <td>1.0</td>\n",
       "      <td>0.0</td>\n",
       "      <td>0.0</td>\n",
       "      <td>0.0</td>\n",
       "    </tr>\n",
       "    <tr>\n",
       "      <td>4</td>\n",
       "      <td>1121.0</td>\n",
       "      <td>108.420213</td>\n",
       "      <td>63.538605</td>\n",
       "      <td>0.0</td>\n",
       "      <td>0.0</td>\n",
       "      <td>0.0</td>\n",
       "      <td>0.0</td>\n",
       "      <td>0.0</td>\n",
       "      <td>0.0</td>\n",
       "      <td>0.0</td>\n",
       "      <td>...</td>\n",
       "      <td>0.0</td>\n",
       "      <td>0.0</td>\n",
       "      <td>0.0</td>\n",
       "      <td>0.0</td>\n",
       "      <td>0.0</td>\n",
       "      <td>0.0</td>\n",
       "      <td>1.0</td>\n",
       "      <td>0.0</td>\n",
       "      <td>0.0</td>\n",
       "      <td>0.0</td>\n",
       "    </tr>\n",
       "  </tbody>\n",
       "</table>\n",
       "<p>5 rows × 799 columns</p>\n",
       "</div>"
      ],
      "text/plain": [
       "   Days Until Next Intervention  Days Since last access procedure  \\\n",
       "0                        1626.0                        108.420213   \n",
       "1                        1543.0                        108.420213   \n",
       "2                        1520.0                        108.420213   \n",
       "3                        1125.0                        108.420213   \n",
       "4                        1121.0                        108.420213   \n",
       "\n",
       "   patient age in years-7  Follow up after Difficulty-10  \\\n",
       "0               63.538605                            0.0   \n",
       "1               63.538605                            0.0   \n",
       "2               63.538605                            0.0   \n",
       "3               63.538605                            0.0   \n",
       "4               63.538605                            0.0   \n",
       "\n",
       "   Prolonged Bleeding-25  Swelling-26  Inadequate Clearance-27  \\\n",
       "0                    0.0          0.0                      1.0   \n",
       "1                    1.0          0.0                      0.0   \n",
       "2                    1.0          0.0                      0.0   \n",
       "3                    1.0          0.0                      0.0   \n",
       "4                    0.0          0.0                      0.0   \n",
       "\n",
       "   Poor Arterial Inflow-28  Aneurysmal Degeneration-29  Pain-30  ...  712  \\\n",
       "0                      0.0                         0.0      0.0  ...  0.0   \n",
       "1                      0.0                         0.0      0.0  ...  0.0   \n",
       "2                      0.0                         0.0      0.0  ...  0.0   \n",
       "3                      0.0                         0.0      0.0  ...  0.0   \n",
       "4                      0.0                         0.0      0.0  ...  0.0   \n",
       "\n",
       "   713  714  715  716  717  718  719  720  721  \n",
       "0  0.0  0.0  0.0  0.0  0.0  1.0  0.0  0.0  0.0  \n",
       "1  0.0  0.0  0.0  0.0  0.0  1.0  0.0  0.0  0.0  \n",
       "2  0.0  0.0  0.0  0.0  0.0  0.0  0.0  0.0  0.0  \n",
       "3  0.0  0.0  0.0  0.0  0.0  1.0  0.0  0.0  0.0  \n",
       "4  0.0  0.0  0.0  0.0  0.0  1.0  0.0  0.0  0.0  \n",
       "\n",
       "[5 rows x 799 columns]"
      ]
     },
     "execution_count": 130,
     "metadata": {},
     "output_type": "execute_result"
    }
   ],
   "source": [
    "Final_df2.head()"
   ]
  },
  {
   "cell_type": "code",
   "execution_count": 131,
   "metadata": {},
   "outputs": [
    {
     "data": {
      "text/html": [
       "<div>\n",
       "<style scoped>\n",
       "    .dataframe tbody tr th:only-of-type {\n",
       "        vertical-align: middle;\n",
       "    }\n",
       "\n",
       "    .dataframe tbody tr th {\n",
       "        vertical-align: top;\n",
       "    }\n",
       "\n",
       "    .dataframe thead th {\n",
       "        text-align: right;\n",
       "    }\n",
       "</style>\n",
       "<table border=\"1\" class=\"dataframe\">\n",
       "  <thead>\n",
       "    <tr style=\"text-align: right;\">\n",
       "      <th></th>\n",
       "      <th>Number of NAs</th>\n",
       "    </tr>\n",
       "  </thead>\n",
       "  <tbody>\n",
       "    <tr>\n",
       "      <td>721</td>\n",
       "      <td>0</td>\n",
       "    </tr>\n",
       "    <tr>\n",
       "      <td>196</td>\n",
       "      <td>0</td>\n",
       "    </tr>\n",
       "    <tr>\n",
       "      <td>194</td>\n",
       "      <td>0</td>\n",
       "    </tr>\n",
       "    <tr>\n",
       "      <td>193</td>\n",
       "      <td>0</td>\n",
       "    </tr>\n",
       "    <tr>\n",
       "      <td>192</td>\n",
       "      <td>0</td>\n",
       "    </tr>\n",
       "  </tbody>\n",
       "</table>\n",
       "</div>"
      ],
      "text/plain": [
       "     Number of NAs\n",
       "721              0\n",
       "196              0\n",
       "194              0\n",
       "193              0\n",
       "192              0"
      ]
     },
     "execution_count": 131,
     "metadata": {},
     "output_type": "execute_result"
    }
   ],
   "source": [
    "# Checking for any NAs left\n",
    "\n",
    "K12 = Final_df2.isnull().sum().sort_values(ascending=False)\n",
    "M12 = pd.DataFrame(K12, columns=['Number of NAs'])\n",
    "M12.head()"
   ]
  },
  {
   "cell_type": "code",
   "execution_count": 132,
   "metadata": {},
   "outputs": [
    {
     "data": {
      "text/html": [
       "<div>\n",
       "<style scoped>\n",
       "    .dataframe tbody tr th:only-of-type {\n",
       "        vertical-align: middle;\n",
       "    }\n",
       "\n",
       "    .dataframe tbody tr th {\n",
       "        vertical-align: top;\n",
       "    }\n",
       "\n",
       "    .dataframe thead th {\n",
       "        text-align: right;\n",
       "    }\n",
       "</style>\n",
       "<table border=\"1\" class=\"dataframe\">\n",
       "  <thead>\n",
       "    <tr style=\"text-align: right;\">\n",
       "      <th></th>\n",
       "      <th>Days Until Next Intervention</th>\n",
       "      <th>Days Since last access procedure</th>\n",
       "      <th>patient age in years-7</th>\n",
       "      <th>Follow up after Difficulty-10</th>\n",
       "      <th>Prolonged Bleeding-25</th>\n",
       "      <th>Swelling-26</th>\n",
       "      <th>Inadequate Clearance-27</th>\n",
       "      <th>Poor Arterial Inflow-28</th>\n",
       "      <th>Aneurysmal Degeneration-29</th>\n",
       "      <th>Pain-30</th>\n",
       "      <th>...</th>\n",
       "      <th>712</th>\n",
       "      <th>713</th>\n",
       "      <th>714</th>\n",
       "      <th>715</th>\n",
       "      <th>716</th>\n",
       "      <th>717</th>\n",
       "      <th>718</th>\n",
       "      <th>719</th>\n",
       "      <th>720</th>\n",
       "      <th>721</th>\n",
       "    </tr>\n",
       "  </thead>\n",
       "  <tbody>\n",
       "    <tr>\n",
       "      <td>0</td>\n",
       "      <td>1626.0</td>\n",
       "      <td>108.420213</td>\n",
       "      <td>63.538605</td>\n",
       "      <td>0.0</td>\n",
       "      <td>0.0</td>\n",
       "      <td>0.0</td>\n",
       "      <td>1.0</td>\n",
       "      <td>0.0</td>\n",
       "      <td>0.0</td>\n",
       "      <td>0.0</td>\n",
       "      <td>...</td>\n",
       "      <td>0.0</td>\n",
       "      <td>0.0</td>\n",
       "      <td>0.0</td>\n",
       "      <td>0.0</td>\n",
       "      <td>0.0</td>\n",
       "      <td>0.0</td>\n",
       "      <td>1.0</td>\n",
       "      <td>0.0</td>\n",
       "      <td>0.0</td>\n",
       "      <td>0.0</td>\n",
       "    </tr>\n",
       "    <tr>\n",
       "      <td>1</td>\n",
       "      <td>1543.0</td>\n",
       "      <td>108.420213</td>\n",
       "      <td>63.538605</td>\n",
       "      <td>0.0</td>\n",
       "      <td>1.0</td>\n",
       "      <td>0.0</td>\n",
       "      <td>0.0</td>\n",
       "      <td>0.0</td>\n",
       "      <td>0.0</td>\n",
       "      <td>0.0</td>\n",
       "      <td>...</td>\n",
       "      <td>0.0</td>\n",
       "      <td>0.0</td>\n",
       "      <td>0.0</td>\n",
       "      <td>0.0</td>\n",
       "      <td>0.0</td>\n",
       "      <td>0.0</td>\n",
       "      <td>1.0</td>\n",
       "      <td>0.0</td>\n",
       "      <td>0.0</td>\n",
       "      <td>0.0</td>\n",
       "    </tr>\n",
       "    <tr>\n",
       "      <td>2</td>\n",
       "      <td>1520.0</td>\n",
       "      <td>108.420213</td>\n",
       "      <td>63.538605</td>\n",
       "      <td>0.0</td>\n",
       "      <td>1.0</td>\n",
       "      <td>0.0</td>\n",
       "      <td>0.0</td>\n",
       "      <td>0.0</td>\n",
       "      <td>0.0</td>\n",
       "      <td>0.0</td>\n",
       "      <td>...</td>\n",
       "      <td>0.0</td>\n",
       "      <td>0.0</td>\n",
       "      <td>0.0</td>\n",
       "      <td>0.0</td>\n",
       "      <td>0.0</td>\n",
       "      <td>0.0</td>\n",
       "      <td>0.0</td>\n",
       "      <td>0.0</td>\n",
       "      <td>0.0</td>\n",
       "      <td>0.0</td>\n",
       "    </tr>\n",
       "    <tr>\n",
       "      <td>3</td>\n",
       "      <td>1125.0</td>\n",
       "      <td>108.420213</td>\n",
       "      <td>63.538605</td>\n",
       "      <td>0.0</td>\n",
       "      <td>1.0</td>\n",
       "      <td>0.0</td>\n",
       "      <td>0.0</td>\n",
       "      <td>0.0</td>\n",
       "      <td>0.0</td>\n",
       "      <td>0.0</td>\n",
       "      <td>...</td>\n",
       "      <td>0.0</td>\n",
       "      <td>0.0</td>\n",
       "      <td>0.0</td>\n",
       "      <td>0.0</td>\n",
       "      <td>0.0</td>\n",
       "      <td>0.0</td>\n",
       "      <td>1.0</td>\n",
       "      <td>0.0</td>\n",
       "      <td>0.0</td>\n",
       "      <td>0.0</td>\n",
       "    </tr>\n",
       "    <tr>\n",
       "      <td>4</td>\n",
       "      <td>1121.0</td>\n",
       "      <td>108.420213</td>\n",
       "      <td>63.538605</td>\n",
       "      <td>0.0</td>\n",
       "      <td>0.0</td>\n",
       "      <td>0.0</td>\n",
       "      <td>0.0</td>\n",
       "      <td>0.0</td>\n",
       "      <td>0.0</td>\n",
       "      <td>0.0</td>\n",
       "      <td>...</td>\n",
       "      <td>0.0</td>\n",
       "      <td>0.0</td>\n",
       "      <td>0.0</td>\n",
       "      <td>0.0</td>\n",
       "      <td>0.0</td>\n",
       "      <td>0.0</td>\n",
       "      <td>1.0</td>\n",
       "      <td>0.0</td>\n",
       "      <td>0.0</td>\n",
       "      <td>0.0</td>\n",
       "    </tr>\n",
       "  </tbody>\n",
       "</table>\n",
       "<p>5 rows × 799 columns</p>\n",
       "</div>"
      ],
      "text/plain": [
       "   Days Until Next Intervention  Days Since last access procedure  \\\n",
       "0                        1626.0                        108.420213   \n",
       "1                        1543.0                        108.420213   \n",
       "2                        1520.0                        108.420213   \n",
       "3                        1125.0                        108.420213   \n",
       "4                        1121.0                        108.420213   \n",
       "\n",
       "   patient age in years-7  Follow up after Difficulty-10  \\\n",
       "0               63.538605                            0.0   \n",
       "1               63.538605                            0.0   \n",
       "2               63.538605                            0.0   \n",
       "3               63.538605                            0.0   \n",
       "4               63.538605                            0.0   \n",
       "\n",
       "   Prolonged Bleeding-25  Swelling-26  Inadequate Clearance-27  \\\n",
       "0                    0.0          0.0                      1.0   \n",
       "1                    1.0          0.0                      0.0   \n",
       "2                    1.0          0.0                      0.0   \n",
       "3                    1.0          0.0                      0.0   \n",
       "4                    0.0          0.0                      0.0   \n",
       "\n",
       "   Poor Arterial Inflow-28  Aneurysmal Degeneration-29  Pain-30  ...  712  \\\n",
       "0                      0.0                         0.0      0.0  ...  0.0   \n",
       "1                      0.0                         0.0      0.0  ...  0.0   \n",
       "2                      0.0                         0.0      0.0  ...  0.0   \n",
       "3                      0.0                         0.0      0.0  ...  0.0   \n",
       "4                      0.0                         0.0      0.0  ...  0.0   \n",
       "\n",
       "   713  714  715  716  717  718  719  720  721  \n",
       "0  0.0  0.0  0.0  0.0  0.0  1.0  0.0  0.0  0.0  \n",
       "1  0.0  0.0  0.0  0.0  0.0  1.0  0.0  0.0  0.0  \n",
       "2  0.0  0.0  0.0  0.0  0.0  0.0  0.0  0.0  0.0  \n",
       "3  0.0  0.0  0.0  0.0  0.0  1.0  0.0  0.0  0.0  \n",
       "4  0.0  0.0  0.0  0.0  0.0  1.0  0.0  0.0  0.0  \n",
       "\n",
       "[5 rows x 799 columns]"
      ]
     },
     "execution_count": 132,
     "metadata": {},
     "output_type": "execute_result"
    }
   ],
   "source": [
    "#Eye-balling the final dataset\n",
    "Final_df2.head()"
   ]
  },
  {
   "cell_type": "markdown",
   "metadata": {},
   "source": [
    "*Random forest models for prediction*"
   ]
  },
  {
   "cell_type": "code",
   "execution_count": 133,
   "metadata": {},
   "outputs": [],
   "source": [
    "# Splitting the data into predictor and response variables\n",
    "\n",
    "Resp_var = ['Days Until Next Intervention', 'Log_DAI']\n",
    "\n",
    "X1 = Final_df2.drop(Resp_var, axis=1)\n",
    "y1 = Final_df2['Days Until Next Intervention']"
   ]
  },
  {
   "cell_type": "code",
   "execution_count": 134,
   "metadata": {},
   "outputs": [],
   "source": [
    "# First we create a model using the response variable itself with Gridsearch and CV\n",
    "from sklearn.ensemble import RandomForestRegressor\n",
    "from sklearn.pipeline import Pipeline\n",
    "\n",
    "my_pipeline = Pipeline(steps=[('model', RandomForestRegressor(n_estimators=50, random_state=0,))])"
   ]
  },
  {
   "cell_type": "code",
   "execution_count": 135,
   "metadata": {},
   "outputs": [
    {
     "name": "stdout",
     "output_type": "stream",
     "text": [
      "MAE:\n",
      " [365.38362500000005, 68.27591666666667, 83.4785803757829, 133.3695198329854, 190.51106471816286]\n"
     ]
    }
   ],
   "source": [
    "from sklearn.model_selection import cross_val_score\n",
    "\n",
    "# Multiply by -1 since sklearn calculates *negative* MAE\n",
    "scores = -1 * cross_val_score(my_pipeline, X1, y1,\n",
    "                              cv=5,\n",
    "                              scoring='neg_mean_absolute_error')\n",
    "\n",
    "print(\"MAE:\\n\", list(scores))"
   ]
  },
  {
   "cell_type": "markdown",
   "metadata": {},
   "source": [
    "*With very high mean absolute error values, using the log transformed values of the response variable is apt*"
   ]
  },
  {
   "cell_type": "code",
   "execution_count": 136,
   "metadata": {},
   "outputs": [],
   "source": [
    "# Creating a new model using log transformed y values\n",
    "X2 = Final_df2.drop(Resp_var, axis=1)\n",
    "y2 = Final_df2['Log_DAI']"
   ]
  },
  {
   "cell_type": "code",
   "execution_count": 137,
   "metadata": {},
   "outputs": [],
   "source": [
    "from sklearn.ensemble import RandomForestRegressor\n",
    "from sklearn.pipeline import Pipeline\n",
    "\n",
    "my_pipeline2 = Pipeline(steps=[('model', RandomForestRegressor(n_estimators=50, random_state=0,))])"
   ]
  },
  {
   "cell_type": "code",
   "execution_count": 138,
   "metadata": {},
   "outputs": [
    {
     "name": "stdout",
     "output_type": "stream",
     "text": [
      "MAE:\n",
      " [1.7247180617630253, 0.827066985194228, 0.3650450636939085, 0.6456752654966255, 2.196363021288692]\n"
     ]
    }
   ],
   "source": [
    "# Multiply by -1 since sklearn calculates *negative* MAE\n",
    "scores2 = -1 * cross_val_score(my_pipeline2, X2, y2,\n",
    "                              cv=5,\n",
    "                              scoring='neg_mean_absolute_error')\n",
    "\n",
    "print(\"MAE:\\n\", list(scores2))"
   ]
  },
  {
   "cell_type": "code",
   "execution_count": 139,
   "metadata": {},
   "outputs": [
    {
     "data": {
      "text/plain": [
       "1.151773679487296"
      ]
     },
     "execution_count": 139,
     "metadata": {},
     "output_type": "execute_result"
    }
   ],
   "source": [
    "# Getting the mean of the output, which are log values\n",
    "log_vals = [1.7247180617630253, 0.827066985194228, 0.3650450636939085, 0.6456752654966255, 2.196363021288692]\n",
    "np.mean(log_vals)"
   ]
  },
  {
   "cell_type": "code",
   "execution_count": 140,
   "metadata": {},
   "outputs": [
    {
     "data": {
      "text/plain": [
       "3.1637995023499723"
      ]
     },
     "execution_count": 140,
     "metadata": {},
     "output_type": "execute_result"
    }
   ],
   "source": [
    "# Getting actual valuesin days by calculating exponentials of the log values\n",
    "np.exp(1.151773679487296)"
   ]
  },
  {
   "cell_type": "code",
   "execution_count": 348,
   "metadata": {},
   "outputs": [
    {
     "data": {
      "text/plain": [
       "16.916730886996458"
      ]
     },
     "execution_count": 348,
     "metadata": {},
     "output_type": "execute_result"
    }
   ],
   "source": [
    "Rsq_log = [25.67956271237327, 30.64096811128819, 7.8508931578656185, 13.857562489222175, 6.554667964233048]\n",
    "np.mean(Rsq_log)"
   ]
  },
  {
   "cell_type": "markdown",
   "metadata": {},
   "source": [
    "*With average mean absolute error of approximately 3 days, I think we have a decent model*"
   ]
  },
  {
   "cell_type": "markdown",
   "metadata": {},
   "source": [
    "*Creating the final model with optimal parameters*"
   ]
  },
  {
   "cell_type": "code",
   "execution_count": 157,
   "metadata": {},
   "outputs": [],
   "source": [
    "# Splitting the data set\n",
    "\n",
    "from sklearn.model_selection import train_test_split\n",
    "\n",
    "X_train, X_valid, y_train, y_valid = train_test_split(X2, y2, test_size=0.25)"
   ]
  },
  {
   "cell_type": "code",
   "execution_count": 158,
   "metadata": {},
   "outputs": [],
   "source": [
    "# GridSearch to find the optimal model parameters\n",
    "from sklearn.model_selection import GridSearchCV\n",
    "# Create the parameter grid based on the results of random search \n",
    "param_grid = {\n",
    "    'bootstrap': [True],\n",
    "    'max_depth': [80, 90, 100, 110],\n",
    "    'max_features': [2, 3],\n",
    "    'min_samples_leaf': [3, 4, 5],\n",
    "    'min_samples_split': [8, 10, 12],\n",
    "    'n_estimators': [50, 100, 200, 300, 1000]\n",
    "}\n",
    "# Create a based model\n",
    "rf = RandomForestRegressor()\n",
    "# Instantiate the grid search model\n",
    "grid_search = GridSearchCV(estimator = rf, param_grid = param_grid, \n",
    "                          cv = 5, n_jobs = -1, verbose = 2)"
   ]
  },
  {
   "cell_type": "code",
   "execution_count": 143,
   "metadata": {},
   "outputs": [
    {
     "name": "stdout",
     "output_type": "stream",
     "text": [
      "Fitting 5 folds for each of 360 candidates, totalling 1800 fits\n"
     ]
    },
    {
     "name": "stderr",
     "output_type": "stream",
     "text": [
      "[Parallel(n_jobs=-1)]: Using backend LokyBackend with 8 concurrent workers.\n",
      "[Parallel(n_jobs=-1)]: Done  25 tasks      | elapsed:    7.2s\n",
      "[Parallel(n_jobs=-1)]: Done 146 tasks      | elapsed:   14.0s\n",
      "[Parallel(n_jobs=-1)]: Done 349 tasks      | elapsed:   27.2s\n",
      "[Parallel(n_jobs=-1)]: Done 632 tasks      | elapsed:   50.2s\n",
      "[Parallel(n_jobs=-1)]: Done 997 tasks      | elapsed:  1.4min\n",
      "[Parallel(n_jobs=-1)]: Done 1442 tasks      | elapsed:  2.0min\n",
      "[Parallel(n_jobs=-1)]: Done 1800 out of 1800 | elapsed:  2.6min finished\n"
     ]
    },
    {
     "data": {
      "text/plain": [
       "{'bootstrap': True,\n",
       " 'max_depth': 90,\n",
       " 'max_features': 3,\n",
       " 'min_samples_leaf': 3,\n",
       " 'min_samples_split': 10,\n",
       " 'n_estimators': 300}"
      ]
     },
     "execution_count": 143,
     "metadata": {},
     "output_type": "execute_result"
    }
   ],
   "source": [
    "# Fit the grid search to the data\n",
    "grid_search.fit(X_train, y_train)\n",
    "grid_search.best_params_\n"
   ]
  },
  {
   "cell_type": "code",
   "execution_count": 159,
   "metadata": {},
   "outputs": [
    {
     "name": "stdout",
     "output_type": "stream",
     "text": [
      "2.5312965180907727\n"
     ]
    }
   ],
   "source": [
    "# Now the final model with optimal model parameters\n",
    "\n",
    "from sklearn.ensemble import RandomForestRegressor\n",
    "from sklearn.metrics import mean_absolute_error\n",
    "\n",
    "rf_model = RandomForestRegressor(\n",
    "    n_estimators=300,\n",
    "    max_depth=90,\n",
    "    min_samples_split = 10,\n",
    "    min_samples_leaf = 3,\n",
    "    max_features = 3,\n",
    "    bootstrap=True)\n",
    "rf_model.fit(X_train, y_train)\n",
    "predictions = rf_model.predict(X_valid)\n",
    "MAError = mean_absolute_error(y_valid, predictions)\n",
    "print(np.exp(MAError))\n",
    "\n"
   ]
  },
  {
   "cell_type": "markdown",
   "metadata": {},
   "source": [
    "*Recreating the model using Extreme Gradient Boosting (XGB) ensemble method*"
   ]
  },
  {
   "cell_type": "code",
   "execution_count": 145,
   "metadata": {},
   "outputs": [
    {
     "name": "stderr",
     "output_type": "stream",
     "text": [
      "C:\\Users\\eyita\\Anaconda3\\lib\\site-packages\\xgboost\\core.py:587: FutureWarning: Series.base is deprecated and will be removed in a future version\n",
      "  if getattr(data, 'base', None) is not None and \\\n"
     ]
    },
    {
     "name": "stdout",
     "output_type": "stream",
     "text": [
      "[12:16:51] WARNING: src/objective/regression_obj.cu:152: reg:linear is now deprecated in favor of reg:squarederror.\n"
     ]
    },
    {
     "data": {
      "text/plain": [
       "XGBRegressor(base_score=0.5, booster='gbtree', colsample_bylevel=1,\n",
       "             colsample_bynode=1, colsample_bytree=1, gamma=0,\n",
       "             importance_type='gain', learning_rate=0.1, max_delta_step=0,\n",
       "             max_depth=3, min_child_weight=1, missing=None, n_estimators=100,\n",
       "             n_jobs=1, nthread=None, objective='reg:linear', random_state=0,\n",
       "             reg_alpha=0, reg_lambda=1, scale_pos_weight=1, seed=None,\n",
       "             silent=None, subsample=1, verbosity=1)"
      ]
     },
     "execution_count": 145,
     "metadata": {},
     "output_type": "execute_result"
    }
   ],
   "source": [
    "from xgboost import XGBRegressor\n",
    "\n",
    "my_model2 = XGBRegressor(n_estimators=100)\n",
    "my_model2.fit(X_train, y_train, \n",
    "             early_stopping_rounds=5, \n",
    "             eval_set=[(X_valid, y_valid)],\n",
    "             verbose=False)"
   ]
  },
  {
   "cell_type": "code",
   "execution_count": 147,
   "metadata": {},
   "outputs": [
    {
     "name": "stdout",
     "output_type": "stream",
     "text": [
      "Mean Absolute Error: 2.391375651434137\n"
     ]
    }
   ],
   "source": [
    "from sklearn.metrics import mean_absolute_error\n",
    "\n",
    "predictions2 = my_model2.predict(X_valid)\n",
    "print(\"Mean Absolute Error: \" + str(np.exp(mean_absolute_error(predictions2, y_valid))))"
   ]
  },
  {
   "cell_type": "markdown",
   "metadata": {},
   "source": [
    "*Gradient boosting didn't perform any better than the Random Forest model*"
   ]
  },
  {
   "cell_type": "markdown",
   "metadata": {},
   "source": [
    "*Obtaining feature importance values*"
   ]
  },
  {
   "cell_type": "code",
   "execution_count": 160,
   "metadata": {},
   "outputs": [
    {
     "data": {
      "text/html": [
       "<div>\n",
       "<style scoped>\n",
       "    .dataframe tbody tr th:only-of-type {\n",
       "        vertical-align: middle;\n",
       "    }\n",
       "\n",
       "    .dataframe tbody tr th {\n",
       "        vertical-align: top;\n",
       "    }\n",
       "\n",
       "    .dataframe thead th {\n",
       "        text-align: right;\n",
       "    }\n",
       "</style>\n",
       "<table border=\"1\" class=\"dataframe\">\n",
       "  <thead>\n",
       "    <tr style=\"text-align: right;\">\n",
       "      <th></th>\n",
       "      <th>importance</th>\n",
       "    </tr>\n",
       "  </thead>\n",
       "  <tbody>\n",
       "    <tr>\n",
       "      <td>Fluoroscopy Time (min)-470</td>\n",
       "      <td>0.021984</td>\n",
       "    </tr>\n",
       "    <tr>\n",
       "      <td>186</td>\n",
       "      <td>0.018549</td>\n",
       "    </tr>\n",
       "    <tr>\n",
       "      <td>184</td>\n",
       "      <td>0.017530</td>\n",
       "    </tr>\n",
       "    <tr>\n",
       "      <td>176</td>\n",
       "      <td>0.016170</td>\n",
       "    </tr>\n",
       "    <tr>\n",
       "      <td>Days Since last access procedure</td>\n",
       "      <td>0.014474</td>\n",
       "    </tr>\n",
       "    <tr>\n",
       "      <td>183</td>\n",
       "      <td>0.012926</td>\n",
       "    </tr>\n",
       "    <tr>\n",
       "      <td>Fentanyl (µg)-81</td>\n",
       "      <td>0.011381</td>\n",
       "    </tr>\n",
       "    <tr>\n",
       "      <td>363</td>\n",
       "      <td>0.011360</td>\n",
       "    </tr>\n",
       "    <tr>\n",
       "      <td>tPA Dose (mg)-105</td>\n",
       "      <td>0.010853</td>\n",
       "    </tr>\n",
       "    <tr>\n",
       "      <td>Clotted Access-32</td>\n",
       "      <td>0.010276</td>\n",
       "    </tr>\n",
       "  </tbody>\n",
       "</table>\n",
       "</div>"
      ],
      "text/plain": [
       "                                  importance\n",
       "Fluoroscopy Time (min)-470          0.021984\n",
       "186                                 0.018549\n",
       "184                                 0.017530\n",
       "176                                 0.016170\n",
       "Days Since last access procedure    0.014474\n",
       "183                                 0.012926\n",
       "Fentanyl (µg)-81                    0.011381\n",
       "363                                 0.011360\n",
       "tPA Dose (mg)-105                   0.010853\n",
       "Clotted Access-32                   0.010276"
      ]
     },
     "execution_count": 160,
     "metadata": {},
     "output_type": "execute_result"
    }
   ],
   "source": [
    "feature_importances = pd.DataFrame(rf_model.feature_importances_,\n",
    "                                   index = X_train.columns,\n",
    "                                    columns=['importance']).sort_values('importance', ascending=False)\n",
    "\n",
    "feature_importances[0:10]"
   ]
  },
  {
   "cell_type": "code",
   "execution_count": 161,
   "metadata": {},
   "outputs": [
    {
     "data": {
      "image/png": "[encoded data removed]",
      "text/plain": [
       "<Figure size 432x288 with 1 Axes>"
      ]
     },
     "metadata": {
      "needs_background": "light"
     },
     "output_type": "display_data"
    }
   ],
   "source": [
    "# libraries\n",
    "import numpy as np\n",
    "import matplotlib.pyplot as plt\n",
    "%matplotlib inline\n",
    " \n",
    "# Make fake dataset\n",
    "height = [0.039234, 0.021016, 0.019128, 0.018960, 0.014625]\n",
    "bars = ('Fluoroscopy Time (min)', 'Clotted Access', 'Patient Age', 'Arterial', 'Lidocaine 1% (cc)')\n",
    "y_pos = np.arange(len(bars))\n",
    " \n",
    "# Create horizontal bars\n",
    "plt.barh(y_pos, height)\n",
    " \n",
    "# Create names on the y-axis\n",
    "plt.yticks(y_pos, bars)\n",
    " \n",
    "# Show graphic\n",
    "plt.show()\n"
   ]
  },
  {
   "cell_type": "code",
   "execution_count": 162,
   "metadata": {},
   "outputs": [],
   "source": [
    "# Now I create a model for the top 5 most important variables in the model\n",
    "Impotant_var = ['Fluoroscopy Time (min)-470', 'Clotted Access-32', 'patient age in years-7', 'Arterial-107',\n",
    "         'Lidocaine 1% (w Epi) cc-69', 'Days Until Next Intervention', 'Log_DAI']\n",
    "Demo_df = Final_df2[Impotant_var]"
   ]
  },
  {
   "cell_type": "code",
   "execution_count": 163,
   "metadata": {},
   "outputs": [
    {
     "data": {
      "text/html": [
       "<div>\n",
       "<style scoped>\n",
       "    .dataframe tbody tr th:only-of-type {\n",
       "        vertical-align: middle;\n",
       "    }\n",
       "\n",
       "    .dataframe tbody tr th {\n",
       "        vertical-align: top;\n",
       "    }\n",
       "\n",
       "    .dataframe thead th {\n",
       "        text-align: right;\n",
       "    }\n",
       "</style>\n",
       "<table border=\"1\" class=\"dataframe\">\n",
       "  <thead>\n",
       "    <tr style=\"text-align: right;\">\n",
       "      <th></th>\n",
       "      <th>Fluoroscopy Time (min)-470</th>\n",
       "      <th>Clotted Access-32</th>\n",
       "      <th>patient age in years-7</th>\n",
       "      <th>Arterial-107</th>\n",
       "      <th>Lidocaine 1% (w Epi) cc-69</th>\n",
       "      <th>Days Until Next Intervention</th>\n",
       "      <th>Log_DAI</th>\n",
       "    </tr>\n",
       "  </thead>\n",
       "  <tbody>\n",
       "    <tr>\n",
       "      <td>0</td>\n",
       "      <td>9.083795</td>\n",
       "      <td>0.0</td>\n",
       "      <td>63.538605</td>\n",
       "      <td>0.0</td>\n",
       "      <td>4.234783</td>\n",
       "      <td>1626.0</td>\n",
       "      <td>7.393878</td>\n",
       "    </tr>\n",
       "    <tr>\n",
       "      <td>1</td>\n",
       "      <td>1.000000</td>\n",
       "      <td>0.0</td>\n",
       "      <td>63.538605</td>\n",
       "      <td>0.0</td>\n",
       "      <td>4.234783</td>\n",
       "      <td>1543.0</td>\n",
       "      <td>7.341484</td>\n",
       "    </tr>\n",
       "    <tr>\n",
       "      <td>2</td>\n",
       "      <td>9.083795</td>\n",
       "      <td>0.0</td>\n",
       "      <td>63.538605</td>\n",
       "      <td>0.0</td>\n",
       "      <td>4.234783</td>\n",
       "      <td>1520.0</td>\n",
       "      <td>7.326466</td>\n",
       "    </tr>\n",
       "    <tr>\n",
       "      <td>3</td>\n",
       "      <td>2.000000</td>\n",
       "      <td>0.0</td>\n",
       "      <td>63.538605</td>\n",
       "      <td>0.0</td>\n",
       "      <td>4.234783</td>\n",
       "      <td>1125.0</td>\n",
       "      <td>7.025538</td>\n",
       "    </tr>\n",
       "    <tr>\n",
       "      <td>4</td>\n",
       "      <td>0.380000</td>\n",
       "      <td>0.0</td>\n",
       "      <td>63.538605</td>\n",
       "      <td>0.0</td>\n",
       "      <td>4.234783</td>\n",
       "      <td>1121.0</td>\n",
       "      <td>7.021976</td>\n",
       "    </tr>\n",
       "  </tbody>\n",
       "</table>\n",
       "</div>"
      ],
      "text/plain": [
       "   Fluoroscopy Time (min)-470  Clotted Access-32  patient age in years-7  \\\n",
       "0                    9.083795                0.0               63.538605   \n",
       "1                    1.000000                0.0               63.538605   \n",
       "2                    9.083795                0.0               63.538605   \n",
       "3                    2.000000                0.0               63.538605   \n",
       "4                    0.380000                0.0               63.538605   \n",
       "\n",
       "   Arterial-107  Lidocaine 1% (w Epi) cc-69  Days Until Next Intervention  \\\n",
       "0           0.0                    4.234783                        1626.0   \n",
       "1           0.0                    4.234783                        1543.0   \n",
       "2           0.0                    4.234783                        1520.0   \n",
       "3           0.0                    4.234783                        1125.0   \n",
       "4           0.0                    4.234783                        1121.0   \n",
       "\n",
       "    Log_DAI  \n",
       "0  7.393878  \n",
       "1  7.341484  \n",
       "2  7.326466  \n",
       "3  7.025538  \n",
       "4  7.021976  "
      ]
     },
     "execution_count": 163,
     "metadata": {},
     "output_type": "execute_result"
    }
   ],
   "source": [
    "Demo_df.head()"
   ]
  },
  {
   "cell_type": "code",
   "execution_count": 164,
   "metadata": {},
   "outputs": [],
   "source": [
    "# Changing column names\n",
    "Demo_df.columns = ['Fluoroscopy_Time', 'Clotted_Access', 'Age',\n",
    "                    'Arterial', 'Lidocaine', 'Days Until Next Intervention', 'Log_DAI']"
   ]
  },
  {
   "cell_type": "code",
   "execution_count": 165,
   "metadata": {},
   "outputs": [
    {
     "data": {
      "text/html": [
       "<div>\n",
       "<style scoped>\n",
       "    .dataframe tbody tr th:only-of-type {\n",
       "        vertical-align: middle;\n",
       "    }\n",
       "\n",
       "    .dataframe tbody tr th {\n",
       "        vertical-align: top;\n",
       "    }\n",
       "\n",
       "    .dataframe thead th {\n",
       "        text-align: right;\n",
       "    }\n",
       "</style>\n",
       "<table border=\"1\" class=\"dataframe\">\n",
       "  <thead>\n",
       "    <tr style=\"text-align: right;\">\n",
       "      <th></th>\n",
       "      <th>Fluoroscopy_Time</th>\n",
       "      <th>Clotted_Access</th>\n",
       "      <th>Age</th>\n",
       "      <th>Arterial</th>\n",
       "      <th>Lidocaine</th>\n",
       "      <th>Days Until Next Intervention</th>\n",
       "      <th>Log_DAI</th>\n",
       "    </tr>\n",
       "  </thead>\n",
       "  <tbody>\n",
       "    <tr>\n",
       "      <td>0</td>\n",
       "      <td>9.083795</td>\n",
       "      <td>0.0</td>\n",
       "      <td>63.538605</td>\n",
       "      <td>0.0</td>\n",
       "      <td>4.234783</td>\n",
       "      <td>1626.0</td>\n",
       "      <td>7.393878</td>\n",
       "    </tr>\n",
       "    <tr>\n",
       "      <td>1</td>\n",
       "      <td>1.000000</td>\n",
       "      <td>0.0</td>\n",
       "      <td>63.538605</td>\n",
       "      <td>0.0</td>\n",
       "      <td>4.234783</td>\n",
       "      <td>1543.0</td>\n",
       "      <td>7.341484</td>\n",
       "    </tr>\n",
       "    <tr>\n",
       "      <td>2</td>\n",
       "      <td>9.083795</td>\n",
       "      <td>0.0</td>\n",
       "      <td>63.538605</td>\n",
       "      <td>0.0</td>\n",
       "      <td>4.234783</td>\n",
       "      <td>1520.0</td>\n",
       "      <td>7.326466</td>\n",
       "    </tr>\n",
       "    <tr>\n",
       "      <td>3</td>\n",
       "      <td>2.000000</td>\n",
       "      <td>0.0</td>\n",
       "      <td>63.538605</td>\n",
       "      <td>0.0</td>\n",
       "      <td>4.234783</td>\n",
       "      <td>1125.0</td>\n",
       "      <td>7.025538</td>\n",
       "    </tr>\n",
       "    <tr>\n",
       "      <td>4</td>\n",
       "      <td>0.380000</td>\n",
       "      <td>0.0</td>\n",
       "      <td>63.538605</td>\n",
       "      <td>0.0</td>\n",
       "      <td>4.234783</td>\n",
       "      <td>1121.0</td>\n",
       "      <td>7.021976</td>\n",
       "    </tr>\n",
       "  </tbody>\n",
       "</table>\n",
       "</div>"
      ],
      "text/plain": [
       "   Fluoroscopy_Time  Clotted_Access        Age  Arterial  Lidocaine  \\\n",
       "0          9.083795             0.0  63.538605       0.0   4.234783   \n",
       "1          1.000000             0.0  63.538605       0.0   4.234783   \n",
       "2          9.083795             0.0  63.538605       0.0   4.234783   \n",
       "3          2.000000             0.0  63.538605       0.0   4.234783   \n",
       "4          0.380000             0.0  63.538605       0.0   4.234783   \n",
       "\n",
       "   Days Until Next Intervention   Log_DAI  \n",
       "0                        1626.0  7.393878  \n",
       "1                        1543.0  7.341484  \n",
       "2                        1520.0  7.326466  \n",
       "3                        1125.0  7.025538  \n",
       "4                        1121.0  7.021976  "
      ]
     },
     "execution_count": 165,
     "metadata": {},
     "output_type": "execute_result"
    }
   ],
   "source": [
    "Demo_df.head()"
   ]
  },
  {
   "cell_type": "code",
   "execution_count": 166,
   "metadata": {},
   "outputs": [],
   "source": [
    "Resp_var2 = ['Days Until Next Intervention', 'Log_DAI']"
   ]
  },
  {
   "cell_type": "code",
   "execution_count": 167,
   "metadata": {},
   "outputs": [],
   "source": [
    "X3 = Demo_df.drop(Resp_var2, axis=1)\n",
    "y3 = Demo_df['Log_DAI']\n",
    "\n",
    "# Splitting the data set\n",
    "\n",
    "from sklearn.model_selection import train_test_split\n",
    "\n",
    "X_train2, X_valid2, y_train2, y_valid2 = train_test_split(X3, y3, test_size=0.25)"
   ]
  },
  {
   "cell_type": "code",
   "execution_count": 168,
   "metadata": {},
   "outputs": [
    {
     "name": "stdout",
     "output_type": "stream",
     "text": [
      "2.478817011103273\n"
     ]
    }
   ],
   "source": [
    "rf_model2 = RandomForestRegressor(\n",
    "    n_estimators=100,\n",
    "    max_depth=100,\n",
    "    min_samples_split = 8,\n",
    "    min_samples_leaf = 3,\n",
    "    max_features = 3,\n",
    "    bootstrap=True)\n",
    "rf_model2.fit(X_train2, y_train2)\n",
    "predictions3 = rf_model2.predict(X_valid2)\n",
    "MAError3 = mean_absolute_error(y_valid2, predictions3)\n",
    "print(np.exp(MAError3))"
   ]
  },
  {
   "cell_type": "code",
   "execution_count": 169,
   "metadata": {},
   "outputs": [
    {
     "name": "stderr",
     "output_type": "stream",
     "text": [
      "C:\\Users\\eyita\\Anaconda3\\lib\\site-packages\\sklearn\\externals\\joblib\\__init__.py:15: DeprecationWarning: sklearn.externals.joblib is deprecated in 0.21 and will be removed in 0.23. Please import this functionality directly from joblib, which can be installed with: pip install joblib. If this warning is raised when loading pickled models, you may need to re-serialize those models with scikit-learn 0.21+.\n",
      "  warnings.warn(msg, category=DeprecationWarning)\n"
     ]
    }
   ],
   "source": [
    "# Saving the model as a joblib file\n",
    "\n",
    "from sklearn.externals import joblib"
   ]
  },
  {
   "cell_type": "code",
   "execution_count": 170,
   "metadata": {},
   "outputs": [
    {
     "data": {
      "text/plain": [
       "['Rf_model.joblib']"
      ]
     },
     "execution_count": 170,
     "metadata": {},
     "output_type": "execute_result"
    }
   ],
   "source": [
    "filename = 'Rf_model.joblib'\n",
    "joblib.dump(rf_model2, filename)"
   ]
  },
  {
   "cell_type": "code",
   "execution_count": 171,
   "metadata": {},
   "outputs": [
    {
     "data": {
      "text/plain": [
       "['Imputer2.joblib']"
      ]
     },
     "execution_count": 171,
     "metadata": {},
     "output_type": "execute_result"
    }
   ],
   "source": [
    "filename = 'Imputer2.joblib'\n",
    "joblib.dump(my_imputer, filename)"
   ]
  },
  {
   "cell_type": "code",
   "execution_count": null,
   "metadata": {},
   "outputs": [],
   "source": [
    "conda install -c conda-forge miktex\n"
   ]
  }
 ],
 "metadata": {
  "kernelspec": {
   "display_name": "Python 3",
   "language": "python",
   "name": "python3"
  },
  "language_info": {
   "codemirror_mode": {
    "name": "ipython",
    "version": 3
   },
   "file_extension": ".py",
   "mimetype": "text/x-python",
   "name": "python",
   "nbconvert_exporter": "python",
   "pygments_lexer": "ipython3",
   "version": "3.7.4"
  }
 },
 "nbformat": 4,
 "nbformat_minor": 2
}
